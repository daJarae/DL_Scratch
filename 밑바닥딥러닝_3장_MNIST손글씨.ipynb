{
  "nbformat": 4,
  "nbformat_minor": 0,
  "metadata": {
    "colab": {
      "name": "밑바닥딥러닝_3장_MNIST손글씨.ipynb",
      "provenance": [],
      "authorship_tag": "ABX9TyPx1OLI1e99i/jgfNh5l14c",
      "include_colab_link": true
    },
    "kernelspec": {
      "name": "python3",
      "display_name": "Python 3"
    },
    "language_info": {
      "name": "python"
    }
  },
  "cells": [
    {
      "cell_type": "markdown",
      "metadata": {
        "id": "view-in-github",
        "colab_type": "text"
      },
      "source": [
        "<a href=\"https://colab.research.google.com/github/daJarae/ML_DL/blob/main/%EB%B0%91%EB%B0%94%EB%8B%A5%EB%94%A5%EB%9F%AC%EB%8B%9D_3%EC%9E%A5_MNIST%EC%86%90%EA%B8%80%EC%94%A8.ipynb\" target=\"_parent\"><img src=\"https://colab.research.google.com/assets/colab-badge.svg\" alt=\"Open In Colab\"/></a>"
      ]
    },
    {
      "cell_type": "markdown",
      "source": [
        "#MNIST\n",
        "\n",
        "기계학습 분야에서 유명한 데이터셋 (실험용 데이터)\n",
        "\n",
        "0~9 숫자 이미지로 구성 (훈련 60,000장, 시험 10,000장)"
      ],
      "metadata": {
        "id": "rBuRewy5J36L"
      }
    },
    {
      "cell_type": "markdown",
      "source": [
        "교재 코드가 오류나서 keras.datasets에서 import"
      ],
      "metadata": {
        "id": "10F8bU3OLlwl"
      }
    },
    {
      "cell_type": "code",
      "source": [
        "import matplotlib.pyplot as plt"
      ],
      "metadata": {
        "id": "90Lw6hsOOlRc"
      },
      "execution_count": 4,
      "outputs": []
    },
    {
      "cell_type": "code",
      "execution_count": 5,
      "metadata": {
        "id": "E1YlLFMUI6Qe"
      },
      "outputs": [],
      "source": [
        "from keras.datasets import mnist\n",
        "\n",
        "(train_X, train_y), (test_X, test_y)= mnist.load_data()"
      ]
    },
    {
      "cell_type": "code",
      "source": [
        "print(train_X.shape, test_X.shape)\n",
        "print(train_y.shape, test_y.shape) #1차원"
      ],
      "metadata": {
        "colab": {
          "base_uri": "https://localhost:8080/"
        },
        "id": "sD6YkQ6GKn2A",
        "outputId": "d1fa4069-c1f6-43aa-d460-6f602cdc0fc8"
      },
      "execution_count": 6,
      "outputs": [
        {
          "output_type": "stream",
          "name": "stdout",
          "text": [
            "(60000, 28, 28) (10000, 28, 28)\n",
            "(60000,) (10000,)\n"
          ]
        }
      ]
    },
    {
      "cell_type": "code",
      "source": [
        "train_y"
      ],
      "metadata": {
        "colab": {
          "base_uri": "https://localhost:8080/"
        },
        "id": "iqPw3VrNMU3X",
        "outputId": "dac6c54f-b7f7-44fb-b015-73c9af8340f0"
      },
      "execution_count": 7,
      "outputs": [
        {
          "output_type": "execute_result",
          "data": {
            "text/plain": [
              "array([5, 0, 4, ..., 5, 6, 8], dtype=uint8)"
            ]
          },
          "metadata": {},
          "execution_count": 7
        }
      ]
    },
    {
      "cell_type": "code",
      "source": [
        "train_X[0][0] #첫번째 사진(1*28*28)의 맨 윗행"
      ],
      "metadata": {
        "colab": {
          "base_uri": "https://localhost:8080/"
        },
        "id": "H2hONBmKMeaQ",
        "outputId": "1566262f-6ca2-411e-f450-d7ff3a55af5d"
      },
      "execution_count": 8,
      "outputs": [
        {
          "output_type": "execute_result",
          "data": {
            "text/plain": [
              "array([0, 0, 0, 0, 0, 0, 0, 0, 0, 0, 0, 0, 0, 0, 0, 0, 0, 0, 0, 0, 0, 0,\n",
              "       0, 0, 0, 0, 0, 0], dtype=uint8)"
            ]
          },
          "metadata": {},
          "execution_count": 8
        }
      ]
    },
    {
      "cell_type": "markdown",
      "source": [
        "#배열을 이미지로"
      ],
      "metadata": {
        "id": "QDL_UevmNFW-"
      }
    },
    {
      "cell_type": "markdown",
      "source": [
        "PIL 모듈"
      ],
      "metadata": {
        "id": "7MiBwKh_QIkK"
      }
    },
    {
      "cell_type": "code",
      "source": [
        "from PIL import Image\n",
        "import numpy as np\n",
        "\n",
        "#된다는데.. 코랩이라 안되나\n",
        "\n",
        "def img(arr):\n",
        "  pil_img=Image.fromarray(np.uint8(arr)) #pil_img 객체로\n",
        "  pil_img.show()"
      ],
      "metadata": {
        "id": "279WdJ-RMple"
      },
      "execution_count": 9,
      "outputs": []
    },
    {
      "cell_type": "code",
      "source": [
        "train_X[0].shape"
      ],
      "metadata": {
        "colab": {
          "base_uri": "https://localhost:8080/"
        },
        "id": "mn7BwRXmNshs",
        "outputId": "73edaff3-f675-4428-f0b6-c6a39851bc6a"
      },
      "execution_count": 10,
      "outputs": [
        {
          "output_type": "execute_result",
          "data": {
            "text/plain": [
              "(28, 28)"
            ]
          },
          "metadata": {},
          "execution_count": 10
        }
      ]
    },
    {
      "cell_type": "markdown",
      "source": [
        "plt 모듈"
      ],
      "metadata": {
        "id": "2R9-0p1AQJ9N"
      }
    },
    {
      "cell_type": "code",
      "source": [
        "import random\n",
        "\n",
        "indices = random.sample(range(60000),9) #랜덤으로 9개 인덱스"
      ],
      "metadata": {
        "id": "C3TxCslKMh50"
      },
      "execution_count": 11,
      "outputs": []
    },
    {
      "cell_type": "code",
      "source": [
        "fig = plt.figure()\n",
        "\n",
        "for i, ind in enumerate(indices): #i:0~8, ind\n",
        "  plt.subplot(3,3,i+1) #3x3 그림판에서 1~9번째\n",
        "  plt.tight_layout()   #위치가 subplot 다음이어야 하나봄 (밑으로 옮기니 8번째 그림이 삭제됨) \n",
        "  plt.imshow(train_X[ind], cmap='gray', interpolation='sinc') #interpolation='none'일 때 도트간 경계가 뚜렷함\n",
        "  plt.title(\"number {}\".format(train_y[ind]))\n",
        "  plt.xticks([]);  plt.yticks([])  #이거 넣어야 x,y축 없이 깔끔"
      ],
      "metadata": {
        "colab": {
          "base_uri": "https://localhost:8080/",
          "height": 284
        },
        "id": "yF-U76lNOb7k",
        "outputId": "001fa4b1-b631-4a3f-d70c-98b91cdd3fbc"
      },
      "execution_count": 12,
      "outputs": [
        {
          "output_type": "display_data",
          "data": {
            "image/png": "[encoded data removed]",
            "text/plain": [
              "<Figure size 432x288 with 9 Axes>"
            ]
          },
          "metadata": {}
        }
      ]
    },
    {
      "cell_type": "markdown",
      "source": [
        "#신경망 구성하기"
      ],
      "metadata": {
        "id": "QW3OLTtiQQ7F"
      }
    },
    {
      "cell_type": "markdown",
      "source": [
        "입력층 뉴런은 28*28개, 출력층 뉴런은 10개\n",
        "\n",
        "은닉층(입력/출력 사이)은 두 개로 첫층에 뉴런 50개, 두번째 층에 100개"
      ],
      "metadata": {
        "id": "VhoKbR2uQS0_"
      }
    },
    {
      "cell_type": "code",
      "source": [
        "import numpy as np\n",
        "\n",
        "#활성화함수\n",
        "\n",
        "def sigmoid(x):\n",
        "  return 1/(1+np.exp(-x))\n",
        "\n",
        "def softmax(x):\n",
        "  return np.max(0,x)\n",
        "\n",
        "\n",
        "#데이터 불러오기\n",
        "\n",
        "def get_data():\n",
        "  from keras.datasets import mnist\n",
        "  (train_x, train_y), (test_x, test_y)= mnist.load_data()\n",
        "  return train_x, test_x, train_y, test_y\n",
        "\n",
        "\n",
        "# 파라미터 딕셔너리를 이용해 예측하기\n",
        "\n",
        "def predict(network,x):\n",
        "\n",
        "  w1,w2,w3=network['w1'],network['w2'],network['w3'] #w1:784*50, w2:50*100, w3:100*10\n",
        "  b1,b2,b3=network['b1'],network['b2'],network['b3'] #b1:784, b2:50, b3:100,\n",
        "\n",
        "  h1=np.dot(x,w1)+b1\n",
        "  out1=sigmoid(h1)\n",
        "  h2=np.dot(x,w2)+b2\n",
        "  out2=sigmoid(h2)\n",
        "  h3=np.dot(x,w3)+b3\n",
        "  \n",
        "  return softmax(h3)\n",
        "\n",
        "#이건 언제 어떻게 쓰려는거지? (미이용 코드)\n",
        "#def init_network():\n",
        "#  with open(\"sample_weight.pkl\",'rb') as f:\n",
        "#    network=pickle.load(f)"
      ],
      "metadata": {
        "id": "KZ8lC6jOOinx"
      },
      "execution_count": 13,
      "outputs": []
    },
    {
      "cell_type": "markdown",
      "source": [
        "이미지를 1장씩 처리하는 것보다 여러장 묶어서 계산하는 배치 처리가 효율적임\n",
        "\n",
        "수치 계산 라이브러리 대부분이 큰 배열을 효율적으로 처리하도록 최적화되어 있음 (numpy기반이 C의 정적 자료형~이어서 속도가 빠르다는..) \n",
        "\n",
        "또한 이미지 한장씩 불러와 처리할 때는 병목 현상이 발생하나 (큰 계산 한번보다 작은 계산 여러번이 느림)\n",
        "\n",
        "데이터를 읽는 작업보다 CPU나 GPU로 순수 계산 수행하는 작업 비율이 상대적으로 늘어서 버스에 주는 부하 감소"
      ],
      "metadata": {
        "id": "xRSSbiDwUNXM"
      }
    },
    {
      "cell_type": "markdown",
      "source": [
        "#softmax 통과 후 레이블 예측"
      ],
      "metadata": {
        "id": "nIftLj2sVJvU"
      }
    },
    {
      "cell_type": "code",
      "source": [
        "result=[[0.5,0.4,0.1],\n",
        "        [0.4,0.3,0.3]]  #두 데이터의 세 클래스 중 예측\n",
        "\n",
        "print(np.argmax(result, 1)) #행마다 최댓값의 idx (열 형태 보존) - 일반적으로 사용하게 됨★\n",
        "print(np.argmax(result, 0)) #열마다 최댓값의 idx (행 형태 보존)"
      ],
      "metadata": {
        "colab": {
          "base_uri": "https://localhost:8080/"
        },
        "id": "j5_DA8RZQhz_",
        "outputId": "ee18db24-7784-487a-81ef-57242a43a641"
      },
      "execution_count": 14,
      "outputs": [
        {
          "output_type": "stream",
          "name": "stdout",
          "text": [
            "[0 0]\n",
            "[0 0 1]\n"
          ]
        }
      ]
    },
    {
      "cell_type": "markdown",
      "source": [
        "#정답률 계산"
      ],
      "metadata": {
        "id": "ZqBW4Sn7V-Up"
      }
    },
    {
      "cell_type": "code",
      "source": [
        "real=np.array([0,1]) #test_y에 해당\n",
        "answer=np.argmax(result,1) #predict에 argmax 적용\n",
        "\n",
        "print(\"정답률: {}%\".format(int((np.sum(answer==real)/len(real)*100))))"
      ],
      "metadata": {
        "colab": {
          "base_uri": "https://localhost:8080/"
        },
        "id": "puiCDAQ5V5hJ",
        "outputId": "7cb334c6-fb3b-4450-9db1-3e35c42acff4"
      },
      "execution_count": 15,
      "outputs": [
        {
          "output_type": "stream",
          "name": "stdout",
          "text": [
            "정답률: 50%\n"
          ]
        }
      ]
    },
    {
      "cell_type": "markdown",
      "source": [
        "\n",
        "\n",
        "---\n",
        "\n"
      ],
      "metadata": {
        "id": "lQT1xkmSXJU0"
      }
    },
    {
      "cell_type": "markdown",
      "source": [
        "#그래서 손글씨 인식은??"
      ],
      "metadata": {
        "id": "MkDp9EgoXHrK"
      }
    },
    {
      "cell_type": "markdown",
      "source": [
        "교재에서 신경망 구조만 설명하고 실제 예측은 안시킨 연유로..."
      ],
      "metadata": {
        "id": "meotTPfSXKI6"
      }
    },
    {
      "cell_type": "code",
      "source": [
        "def get_data():\n",
        "  from keras.datasets import mnist\n",
        "  (train_x, train_y), (test_x, test_y)= mnist.load_data()\n",
        "  return train_x[:10000], test_x[:1000], train_y[:10000], test_y[:1000]\n",
        "\n",
        "#6만/1만개 다 쓰지 않고 1만/천개만 써야지"
      ],
      "metadata": {
        "id": "r0fFT9aSY3BE"
      },
      "execution_count": 16,
      "outputs": []
    },
    {
      "cell_type": "code",
      "source": [
        "from tensorflow.keras.models import Sequential\n",
        "from tensorflow.keras.layers import Dense\n",
        "\n",
        "#인스턴스\n",
        "model = Sequential()\n",
        "\n",
        "#입력층~은닉층1\n",
        "model.add(Dense(50, input_dim=784, activation='sigmoid'))\n",
        "\n",
        "#은닉층~은닉층2\n",
        "model.add(Dense(100, activation='sigmoid'))\n",
        "\n",
        "#은닉층2~출력층\n",
        "model.add(Dense(10, activation='softmax')) #마지막은 softmax\n",
        "\n",
        "#컴파일\n",
        "model.compile(optimizer='adam', loss='categorical_crossentropy', metrics=['acc'])"
      ],
      "metadata": {
        "id": "WLfX7QKdXOTi"
      },
      "execution_count": 17,
      "outputs": []
    },
    {
      "cell_type": "markdown",
      "source": [
        "적합"
      ],
      "metadata": {
        "id": "yFQ-cBzIZToq"
      }
    },
    {
      "cell_type": "code",
      "source": [
        "X,x,Y,y=get_data()"
      ],
      "metadata": {
        "id": "TI6MgYpfZTMF"
      },
      "execution_count": 18,
      "outputs": []
    },
    {
      "cell_type": "markdown",
      "source": [
        "그런데 바로 모델 학습을 시킬 수는 없다... 28*28 데이터를 flatten 해줘야 한다"
      ],
      "metadata": {
        "id": "a1KNnQS1ZjRF"
      }
    },
    {
      "cell_type": "code",
      "source": [
        "X.shape"
      ],
      "metadata": {
        "colab": {
          "base_uri": "https://localhost:8080/"
        },
        "id": "qyry-hkFZUrx",
        "outputId": "bc4f87ef-68b1-4c58-9c1d-ca4f65751474"
      },
      "execution_count": 19,
      "outputs": [
        {
          "output_type": "execute_result",
          "data": {
            "text/plain": [
              "(10000, 28, 28)"
            ]
          },
          "metadata": {},
          "execution_count": 19
        }
      ]
    },
    {
      "cell_type": "code",
      "source": [
        "flat_X=[]; flat_x=[]\n",
        "\n",
        "for X in X:\n",
        "  flat_X.append(X.flatten())\n",
        "for x in x:\n",
        "  flat_x.append(x.flatten())"
      ],
      "metadata": {
        "id": "8bwmoeV2ZudW"
      },
      "execution_count": 20,
      "outputs": []
    },
    {
      "cell_type": "code",
      "source": [
        "X_=np.array(flat_X)\n",
        "x_=np.array(flat_x)\n",
        "print(X_.shape, x_.shape) #성공적으로 faltten 되었다"
      ],
      "metadata": {
        "colab": {
          "base_uri": "https://localhost:8080/"
        },
        "id": "mLz8cm4naGV4",
        "outputId": "c78e7232-cc88-4a8d-c9a8-494a65d5f6a4"
      },
      "execution_count": 21,
      "outputs": [
        {
          "output_type": "stream",
          "name": "stdout",
          "text": [
            "(10000, 784) (1000, 784)\n"
          ]
        }
      ]
    },
    {
      "cell_type": "markdown",
      "source": [
        "아차차.. y레이블에 원핫인코딩을 해줘야 소프트맥스를 사용할 수 있다!"
      ],
      "metadata": {
        "id": "17O5D0XtaYBL"
      }
    },
    {
      "cell_type": "code",
      "source": [
        "Y_=Y.reshape(len(Y),1)\n",
        "y_=y.reshape(len(y),1)"
      ],
      "metadata": {
        "id": "Nobotlm5bAhj"
      },
      "execution_count": 22,
      "outputs": []
    },
    {
      "cell_type": "code",
      "source": [
        "print(Y.shape,Y_.shape) #1차원 배열을 2차원 배열로\n",
        "print(Y[:3])\n",
        "print(Y_[:3]) #10000개의 행이 있는 하나의 열"
      ],
      "metadata": {
        "colab": {
          "base_uri": "https://localhost:8080/"
        },
        "id": "SUI0YhFhbBAz",
        "outputId": "21024cf6-f11b-4096-a6ae-b3062008de91"
      },
      "execution_count": 23,
      "outputs": [
        {
          "output_type": "stream",
          "name": "stdout",
          "text": [
            "(10000,) (10000, 1)\n",
            "[5 0 4]\n",
            "[[5]\n",
            " [0]\n",
            " [4]]\n"
          ]
        }
      ]
    },
    {
      "cell_type": "code",
      "source": [
        "from sklearn.preprocessing import OneHotEncoder\n",
        "\n",
        "onehot = OneHotEncoder(sparse=False) #sparse=False 안하면 이상해짐\n",
        "Y_ = onehot.fit_transform(Y_)\n",
        "y_ = onehot.fit_transform(y_)"
      ],
      "metadata": {
        "id": "TzG4BfTJafKT"
      },
      "execution_count": 24,
      "outputs": []
    },
    {
      "cell_type": "markdown",
      "source": [
        "잘 인코딩 되었다"
      ],
      "metadata": {
        "id": "7jnIw_SdcFYq"
      }
    },
    {
      "cell_type": "code",
      "source": [
        "print(Y_[0], Y[0])\n",
        "print(y_[0], y[0])"
      ],
      "metadata": {
        "colab": {
          "base_uri": "https://localhost:8080/"
        },
        "id": "jLdrUBPNbz1c",
        "outputId": "587d7273-eb0d-4a78-e470-6ef686ea8a66"
      },
      "execution_count": 25,
      "outputs": [
        {
          "output_type": "stream",
          "name": "stdout",
          "text": [
            "[0. 0. 0. 0. 0. 1. 0. 0. 0. 0.] 5\n",
            "[0. 0. 0. 0. 0. 0. 0. 1. 0. 0.] 7\n"
          ]
        }
      ]
    },
    {
      "cell_type": "markdown",
      "source": [
        "\n",
        "\n",
        "---\n",
        "\n"
      ],
      "metadata": {
        "id": "dMy1yivuccEB"
      }
    },
    {
      "cell_type": "markdown",
      "source": [
        "#드디어 학습"
      ],
      "metadata": {
        "id": "VrnxHhmGcMcm"
      }
    },
    {
      "cell_type": "markdown",
      "source": [
        "참고로 100에포크 동안 100배치로 10000개의 데이터를 볼것이므로\n",
        "\n",
        "가중치 업데이트는 100*100해서 만번 발생할 것"
      ],
      "metadata": {
        "id": "6cy0a5Ffcht1"
      }
    },
    {
      "cell_type": "code",
      "source": [
        "history=model.fit(X_, Y_, epochs=100, batch_size=100, validation_data=(x_, y_))"
      ],
      "metadata": {
        "id": "EN4xnmMGX67F"
      },
      "execution_count": null,
      "outputs": []
    },
    {
      "cell_type": "markdown",
      "source": [
        "#예측"
      ],
      "metadata": {
        "id": "kVrWFJ6xdUtZ"
      }
    },
    {
      "cell_type": "code",
      "source": [
        "pred=np.argmax(model.predict(x_), 1) #원핫으로 넣어도 argmax로 최고 소수의 자릿값을 반환하므로 정수 레이블 받음\n",
        "pred[:10]"
      ],
      "metadata": {
        "colab": {
          "base_uri": "https://localhost:8080/"
        },
        "id": "Uh-H77kNdUh4",
        "outputId": "fa262e01-8cbc-4149-9657-b2e9d9a9fd51"
      },
      "execution_count": 27,
      "outputs": [
        {
          "output_type": "execute_result",
          "data": {
            "text/plain": [
              "array([7, 2, 1, 0, 4, 1, 4, 9, 6, 9])"
            ]
          },
          "metadata": {},
          "execution_count": 27
        }
      ]
    },
    {
      "cell_type": "code",
      "source": [
        "tf=(pred==y) #원핫 인코딩 되지 않은 y와 비교해야함!"
      ],
      "metadata": {
        "id": "RUtIBbbhd0Jr"
      },
      "execution_count": 28,
      "outputs": []
    },
    {
      "cell_type": "markdown",
      "source": [
        "정확성은?"
      ],
      "metadata": {
        "id": "IgiGgNw2eXzN"
      }
    },
    {
      "cell_type": "code",
      "source": [
        "print(\"정확성: {}\".format(np.sum(tf)/len(tf)))"
      ],
      "metadata": {
        "colab": {
          "base_uri": "https://localhost:8080/"
        },
        "id": "tma3l38ieXVk",
        "outputId": "ed9973ca-e7d1-43bd-badc-d6d00420d013"
      },
      "execution_count": 29,
      "outputs": [
        {
          "output_type": "stream",
          "name": "stdout",
          "text": [
            "정확성: 0.901\n"
          ]
        }
      ]
    },
    {
      "cell_type": "markdown",
      "source": [
        "틀린 문제를 추적해볼까요?"
      ],
      "metadata": {
        "id": "sly9K_m1epja"
      }
    },
    {
      "cell_type": "code",
      "source": [
        "wrong=x_[pred!=y]\n",
        "wrong_pred=pred[pred!=y]"
      ],
      "metadata": {
        "id": "_GX4f5lqennk"
      },
      "execution_count": 33,
      "outputs": []
    },
    {
      "cell_type": "code",
      "source": [
        "#인덱스 수정 (25개)\n",
        "sub=wrong[:25]\n",
        "ans=wrong_pred[:25]\n",
        "\n",
        "fig = plt.figure() #이거 없으면 오류다... ㄷㄷ \n",
        "\n",
        "for idx, num in enumerate(sub):\n",
        "  plt.subplot(5,5,idx+1)\n",
        "  plt.tight_layout()\n",
        "  plt.imshow(num.reshape(28,28), cmap='gray')\n",
        "  plt.title(\"pred {}\".format(ans[idx]))\n",
        "  plt.xticks([]); plt.yticks([])"
      ],
      "metadata": {
        "colab": {
          "base_uri": "https://localhost:8080/",
          "height": 284
        },
        "id": "4Qqrx_1ae4x5",
        "outputId": "dab63c05-27bd-4e90-ad50-e8e26dcd5dbb"
      },
      "execution_count": 34,
      "outputs": [
        {
          "output_type": "display_data",
          "data": {
            "image/png": "[encoded data removed]",
            "text/plain": [
              "<Figure size 432x288 with 25 Axes>"
            ]
          },
          "metadata": {}
        }
      ]
    },
    {
      "cell_type": "markdown",
      "source": [
        "어라.. 쉬워보이는 것도 많이 틀렸네요"
      ],
      "metadata": {
        "id": "exF76wivhKHj"
      }
    },
    {
      "cell_type": "code",
      "source": [
        "epochs=range(1,len(history.history['acc'])+1)\n",
        "\n",
        "plt.plot(epochs, history.history['acc'])\n",
        "plt.plot(epochs, history.history['val_acc'])\n",
        "\n",
        "plt.legend(['train','val'], loc='upper left')\n",
        "plt.show()"
      ],
      "metadata": {
        "colab": {
          "base_uri": "https://localhost:8080/",
          "height": 265
        },
        "id": "We7XYwV_c1Ty",
        "outputId": "eabef403-37d5-493a-8312-fa3f766f4394"
      },
      "execution_count": 32,
      "outputs": [
        {
          "output_type": "display_data",
          "data": {
            "image/png": "[encoded data removed]",
            "text/plain": [
              "<Figure size 432x288 with 1 Axes>"
            ]
          },
          "metadata": {
            "needs_background": "light"
          }
        }
      ]
    },
    {
      "cell_type": "markdown",
      "source": [
        "정확성 비교를 보니 꾸준한 상승세에 올라있던 것을 보아, 가중치 업데이트를 더 여러번 해도 좋았을 것 같습니다.\n",
        "\n",
        "다음 세가지 실험을 해보죠\n",
        "\n",
        "1) 다른 상황은 그대로, 배치를 반으로 줄인다\n",
        "\n",
        "2) 다른 상황은 그대로, 에포크를 두배로 늘린다\n",
        "\n",
        "3) 다른 상황은 그대로, 훈련 데이터를 두배로 늘린다\n",
        "\n",
        "아마 3이 압도적인 성능 개선을 보이겠죠?"
      ],
      "metadata": {
        "id": "CLQfeS9ChM58"
      }
    },
    {
      "cell_type": "markdown",
      "source": [
        "\n",
        "\n",
        "---\n",
        "\n"
      ],
      "metadata": {
        "id": "bEKL9-sCiDdd"
      }
    },
    {
      "cell_type": "markdown",
      "source": [
        "#성능 개선해보기"
      ],
      "metadata": {
        "id": "q2b0WeX3iEdA"
      }
    },
    {
      "cell_type": "markdown",
      "source": [
        "#1. 배치를 반으로"
      ],
      "metadata": {
        "id": "LwmSjTWphl-z"
      }
    },
    {
      "cell_type": "markdown",
      "source": [
        "여기서는 X,x,Y,y에 변화가 없습니다"
      ],
      "metadata": {
        "id": "fSVT-cEbhtRN"
      }
    },
    {
      "cell_type": "code",
      "source": [
        "from tensorflow.keras.models import Sequential\n",
        "from tensorflow.keras.layers import Dense\n",
        "\n",
        "#인스턴스\n",
        "model1 = Sequential()\n",
        "\n",
        "#입력층~은닉층1\n",
        "model1.add(Dense(50, input_dim=784, activation='sigmoid'))\n",
        "\n",
        "#은닉층~은닉층2\n",
        "model1.add(Dense(100, activation='sigmoid'))\n",
        "\n",
        "#은닉층2~출력층\n",
        "model1.add(Dense(10, activation='softmax')) #마지막은 softmax\n",
        "\n",
        "#컴파일\n",
        "model1.compile(optimizer='adam', loss='categorical_crossentropy', metrics=['acc'])\n",
        "\n",
        "history=model1.fit(X_, Y_, epochs=100, batch_size=50, validation_data=(x_, y_))"
      ],
      "metadata": {
        "id": "OGbxc2mLcal5"
      },
      "execution_count": null,
      "outputs": []
    },
    {
      "cell_type": "code",
      "source": [
        "epochs=range(1,len(history.history['acc'])+1)\n",
        "\n",
        "plt.plot(epochs, history.history['acc'])\n",
        "plt.plot(epochs, history.history['val_acc'])\n",
        "\n",
        "plt.legend(['train','val'], loc='upper left')\n",
        "plt.show()"
      ],
      "metadata": {
        "colab": {
          "base_uri": "https://localhost:8080/",
          "height": 265
        },
        "id": "iMZhgJOih7TC",
        "outputId": "b88eabdc-8088-41c2-baf5-b070c3c77a1e"
      },
      "execution_count": 36,
      "outputs": [
        {
          "output_type": "display_data",
          "data": {
            "image/png": "[encoded data removed]",
            "text/plain": [
              "<Figure size 432x288 with 1 Axes>"
            ]
          },
          "metadata": {
            "needs_background": "light"
          }
        }
      ]
    },
    {
      "cell_type": "markdown",
      "source": [
        "train의 정확성은 안정적인 성장세를 보이나 검증 정확성이 불안정합니다.\n",
        "\n",
        "한정된 데이터로 업데이트 수만 늘린 결과 과적합에 가까워졌을 수 있겠습니다."
      ],
      "metadata": {
        "id": "nZZBDSihii6j"
      }
    },
    {
      "cell_type": "markdown",
      "source": [
        "#2. 에포크를 두배로\n",
        "\n",
        "여기서도 x,y에는 변화가 없습니다"
      ],
      "metadata": {
        "id": "jxtAFIzmh-Ww"
      }
    },
    {
      "cell_type": "code",
      "source": [
        "from tensorflow.keras.models import Sequential\n",
        "from tensorflow.keras.layers import Dense\n",
        "\n",
        "#인스턴스\n",
        "model2 = Sequential()\n",
        "\n",
        "#입력층~은닉층1\n",
        "model2.add(Dense(50, input_dim=784, activation='sigmoid'))\n",
        "\n",
        "#은닉층~은닉층2\n",
        "model2.add(Dense(100, activation='sigmoid'))\n",
        "\n",
        "#은닉층2~출력층\n",
        "model2.add(Dense(10, activation='softmax')) #마지막은 softmax\n",
        "\n",
        "#컴파일\n",
        "model2.compile(optimizer='adam', loss='categorical_crossentropy', metrics=['acc'])\n",
        "\n",
        "history2=model2.fit(X_, Y_, epochs=200, batch_size=50, validation_data=(x_, y_))"
      ],
      "metadata": {
        "id": "qUKBOow9h939"
      },
      "execution_count": null,
      "outputs": []
    },
    {
      "cell_type": "code",
      "source": [
        "epochs=range(1,len(history2.history['acc'])+1)\n",
        "\n",
        "plt.plot(epochs, history2.history['acc'])\n",
        "plt.plot(epochs, history2.history['val_acc'])\n",
        "\n",
        "plt.legend(['train','val'], loc='upper left')\n",
        "plt.show()"
      ],
      "metadata": {
        "colab": {
          "base_uri": "https://localhost:8080/",
          "height": 265
        },
        "id": "p9H0gxIdjdVM",
        "outputId": "f0a57be6-c140-4e31-8007-935d1a2ed7f1"
      },
      "execution_count": 44,
      "outputs": [
        {
          "output_type": "display_data",
          "data": {
            "image/png": "[encoded data removed]",
            "text/plain": [
              "<Figure size 432x288 with 1 Axes>"
            ]
          },
          "metadata": {
            "needs_background": "light"
          }
        }
      ]
    },
    {
      "cell_type": "markdown",
      "source": [
        "최종 검증 정확성 0.928로, 배치 사이즈만 반으로 한 0.898의 경우보다 정확합니다\n",
        "\n",
        "둘다 각각 에포크x한에포크 계산수가 100x200과 200x100으로 연산횟수는 동일하기 때문에\n",
        "\n",
        " 과소적합이 의심될 때는 에포크를 늘리는 게 이득이군요."
      ],
      "metadata": {
        "id": "EiiJa5hbkq87"
      }
    },
    {
      "cell_type": "markdown",
      "source": [
        "#3. 데이터 크기 두배"
      ],
      "metadata": {
        "id": "pLdrlp0RlZ8j"
      }
    },
    {
      "cell_type": "markdown",
      "source": [
        "테스트 데이터는 그대로 사용하고, 훈련 데이터만 바꾸겠습니다."
      ],
      "metadata": {
        "id": "H2q3i57Alouk"
      }
    },
    {
      "cell_type": "code",
      "source": [
        "(train_x, train_y), (test_x, test_y)= mnist.load_data()\n",
        "\n",
        "X__=train_x[:20000]\n",
        "Y=train_y[:20000]"
      ],
      "metadata": {
        "id": "npN2YgxclWbc"
      },
      "execution_count": 50,
      "outputs": []
    },
    {
      "cell_type": "code",
      "source": [
        "X__.shape"
      ],
      "metadata": {
        "colab": {
          "base_uri": "https://localhost:8080/"
        },
        "id": "kGpIJi6umb0E",
        "outputId": "f8b00544-818e-49b8-c697-7e38f680c599"
      },
      "execution_count": 51,
      "outputs": [
        {
          "output_type": "execute_result",
          "data": {
            "text/plain": [
              "(20000, 28, 28)"
            ]
          },
          "metadata": {},
          "execution_count": 51
        }
      ]
    },
    {
      "cell_type": "code",
      "source": [
        "flat_X_=[]\n",
        "\n",
        "for X in X__:\n",
        "  flat_X_.append(X.flatten())\n",
        "\n",
        "X__=np.array(flat_X_)\n",
        "Y__=Y.reshape(len(Y),1)"
      ],
      "metadata": {
        "id": "KbYnzSLBl8nS"
      },
      "execution_count": 52,
      "outputs": []
    },
    {
      "cell_type": "code",
      "source": [
        "from sklearn.preprocessing import OneHotEncoder\n",
        "\n",
        "onehot = OneHotEncoder(sparse=False)\n",
        "Y__= onehot.fit_transform(Y__)"
      ],
      "metadata": {
        "id": "tesWk0xil8nT"
      },
      "execution_count": 55,
      "outputs": []
    },
    {
      "cell_type": "code",
      "source": [
        "from tensorflow.keras.models import Sequential\n",
        "from tensorflow.keras.layers import Dense\n",
        "\n",
        "model3=Sequential()\n",
        "\n",
        "model3.add(Dense(50, input_dim=784, activation='sigmoid'))\n",
        "model3.add(Dense(100, activation='sigmoid'))\n",
        "model3.add(Dense(10, activation='softmax'))\n",
        "\n",
        "model3.compile(optimizer='adam', loss='categorical_crossentropy', metrics=['acc'])\n",
        "history3=model3.fit(X__,Y__, epochs=100, batch_size=100, validation_data=(x_,y_))"
      ],
      "metadata": {
        "id": "XvRQxVJ-j1On"
      },
      "execution_count": null,
      "outputs": []
    },
    {
      "cell_type": "code",
      "source": [
        "epoch2=range(1,len(history2.history['acc'])+1)\n",
        "epoch3=range(1,len(history3.history['acc'])+1)\n",
        "\n",
        "plt.plot(epoch2, history2.history['val_acc'])\n",
        "plt.plot(epoch3, history3.history['val_acc'])\n",
        "\n",
        "plt.legend(['model2','model3'], loc='upper left')\n",
        "plt.show()"
      ],
      "metadata": {
        "colab": {
          "base_uri": "https://localhost:8080/",
          "height": 265
        },
        "id": "9Y8OzL09ly54",
        "outputId": "4365c735-a685-4c46-ba10-af2fd76628eb"
      },
      "execution_count": 59,
      "outputs": [
        {
          "output_type": "display_data",
          "data": {
            "image/png": "[encoded data removed]",
            "text/plain": [
              "<Figure size 432x288 with 1 Axes>"
            ]
          },
          "metadata": {
            "needs_background": "light"
          }
        }
      ]
    },
    {
      "cell_type": "markdown",
      "source": [
        "model3이 데이터 크기가 두배임에도 마지막 학습에서 검증 점수가 크게 떨어져 model2와 점수가 비슷해졌네요!? 이럴수가~\n",
        "\n",
        "역시 최고의 조합은 크기 두배 * 에포크 두배겠죠?"
      ],
      "metadata": {
        "id": "Bdkrg5Y0s2cy"
      }
    },
    {
      "cell_type": "markdown",
      "source": [
        "# 4. 크기 두배, 에포크 두배"
      ],
      "metadata": {
        "id": "aEtPmadytms2"
      }
    },
    {
      "cell_type": "code",
      "source": [
        "from tensorflow.keras.models import Sequential\n",
        "from tensorflow.keras.layers import Dense\n",
        "\n",
        "model4=Sequential()\n",
        "\n",
        "model4.add(Dense(50, input_dim=784, activation='sigmoid'))\n",
        "model4.add(Dense(100, activation='sigmoid'))\n",
        "model4.add(Dense(10, activation='softmax'))\n",
        "\n",
        "model4.compile(optimizer='adam', loss='categorical_crossentropy', metrics=['acc'])\n",
        "history3=model3.fit(X__,Y__, epochs=200, batch_size=100, validation_data=(x_,y_))"
      ],
      "metadata": {
        "colab": {
          "base_uri": "https://localhost:8080/"
        },
        "id": "_YXsG7omtpML",
        "outputId": "31b2fb7c-6f3e-4932-d7fb-d8485807bbd6"
      },
      "execution_count": 63,
      "outputs": [
        {
          "output_type": "stream",
          "name": "stdout",
          "text": [
            "Epoch 1/200\n",
            "200/200 [==============================] - 1s 7ms/step - loss: 0.1455 - acc: 0.9557 - val_loss: 0.2215 - val_acc: 0.9290\n",
            "Epoch 2/200\n",
            "200/200 [==============================] - 1s 7ms/step - loss: 0.1487 - acc: 0.9531 - val_loss: 0.1967 - val_acc: 0.9410\n",
            "Epoch 3/200\n",
            "200/200 [==============================] - 1s 7ms/step - loss: 0.1403 - acc: 0.9543 - val_loss: 0.2030 - val_acc: 0.9380\n",
            "Epoch 4/200\n",
            "200/200 [==============================] - 1s 7ms/step - loss: 0.1317 - acc: 0.9584 - val_loss: 0.2028 - val_acc: 0.9340\n",
            "Epoch 5/200\n",
            "200/200 [==============================] - 1s 6ms/step - loss: 0.1332 - acc: 0.9573 - val_loss: 0.1971 - val_acc: 0.9380\n",
            "Epoch 6/200\n",
            "200/200 [==============================] - 1s 4ms/step - loss: 0.1354 - acc: 0.9575 - val_loss: 0.1979 - val_acc: 0.9390\n",
            "Epoch 7/200\n",
            "200/200 [==============================] - 1s 4ms/step - loss: 0.1370 - acc: 0.9578 - val_loss: 0.2012 - val_acc: 0.9360\n",
            "Epoch 8/200\n",
            "200/200 [==============================] - 1s 5ms/step - loss: 0.1368 - acc: 0.9575 - val_loss: 0.1871 - val_acc: 0.9350\n",
            "Epoch 9/200\n",
            "200/200 [==============================] - 1s 4ms/step - loss: 0.1308 - acc: 0.9592 - val_loss: 0.2152 - val_acc: 0.9360\n",
            "Epoch 10/200\n",
            "200/200 [==============================] - 1s 4ms/step - loss: 0.1259 - acc: 0.9604 - val_loss: 0.2074 - val_acc: 0.9320\n",
            "Epoch 11/200\n",
            "200/200 [==============================] - 1s 4ms/step - loss: 0.1296 - acc: 0.9592 - val_loss: 0.1954 - val_acc: 0.9410\n",
            "Epoch 12/200\n",
            "200/200 [==============================] - 1s 4ms/step - loss: 0.1375 - acc: 0.9556 - val_loss: 0.2237 - val_acc: 0.9270\n",
            "Epoch 13/200\n",
            "200/200 [==============================] - 1s 4ms/step - loss: 0.1411 - acc: 0.9553 - val_loss: 0.2082 - val_acc: 0.9340\n",
            "Epoch 14/200\n",
            "200/200 [==============================] - 1s 4ms/step - loss: 0.1417 - acc: 0.9552 - val_loss: 0.2088 - val_acc: 0.9370\n",
            "Epoch 15/200\n",
            "200/200 [==============================] - 1s 4ms/step - loss: 0.1384 - acc: 0.9554 - val_loss: 0.2124 - val_acc: 0.9350\n",
            "Epoch 16/200\n",
            "200/200 [==============================] - 1s 4ms/step - loss: 0.1395 - acc: 0.9563 - val_loss: 0.2128 - val_acc: 0.9320\n",
            "Epoch 17/200\n",
            "200/200 [==============================] - 1s 4ms/step - loss: 0.1510 - acc: 0.9512 - val_loss: 0.2154 - val_acc: 0.9310\n",
            "Epoch 18/200\n",
            "200/200 [==============================] - 1s 4ms/step - loss: 0.1369 - acc: 0.9567 - val_loss: 0.1920 - val_acc: 0.9370\n",
            "Epoch 19/200\n",
            "200/200 [==============================] - 1s 4ms/step - loss: 0.1355 - acc: 0.9571 - val_loss: 0.2016 - val_acc: 0.9360\n",
            "Epoch 20/200\n",
            "200/200 [==============================] - 1s 4ms/step - loss: 0.1440 - acc: 0.9564 - val_loss: 0.2096 - val_acc: 0.9280\n",
            "Epoch 21/200\n",
            "200/200 [==============================] - 1s 4ms/step - loss: 0.1411 - acc: 0.9563 - val_loss: 0.2162 - val_acc: 0.9290\n",
            "Epoch 22/200\n",
            "200/200 [==============================] - 1s 4ms/step - loss: 0.1452 - acc: 0.9531 - val_loss: 0.2278 - val_acc: 0.9290\n",
            "Epoch 23/200\n",
            "200/200 [==============================] - 1s 4ms/step - loss: 0.1311 - acc: 0.9590 - val_loss: 0.2069 - val_acc: 0.9380\n",
            "Epoch 24/200\n",
            "200/200 [==============================] - 1s 4ms/step - loss: 0.1219 - acc: 0.9606 - val_loss: 0.2190 - val_acc: 0.9220\n",
            "Epoch 25/200\n",
            "200/200 [==============================] - 1s 4ms/step - loss: 0.1359 - acc: 0.9549 - val_loss: 0.2225 - val_acc: 0.9340\n",
            "Epoch 26/200\n",
            "200/200 [==============================] - 1s 5ms/step - loss: 0.1339 - acc: 0.9567 - val_loss: 0.1944 - val_acc: 0.9390\n",
            "Epoch 27/200\n",
            "200/200 [==============================] - 1s 5ms/step - loss: 0.1378 - acc: 0.9559 - val_loss: 0.2099 - val_acc: 0.9380\n",
            "Epoch 28/200\n",
            "200/200 [==============================] - 1s 6ms/step - loss: 0.1436 - acc: 0.9544 - val_loss: 0.1928 - val_acc: 0.9400\n",
            "Epoch 29/200\n",
            "200/200 [==============================] - 1s 6ms/step - loss: 0.1250 - acc: 0.9603 - val_loss: 0.1964 - val_acc: 0.9360\n",
            "Epoch 30/200\n",
            "200/200 [==============================] - 1s 7ms/step - loss: 0.1427 - acc: 0.9545 - val_loss: 0.1994 - val_acc: 0.9360\n",
            "Epoch 31/200\n",
            "200/200 [==============================] - 1s 6ms/step - loss: 0.1436 - acc: 0.9553 - val_loss: 0.2234 - val_acc: 0.9240\n",
            "Epoch 32/200\n",
            "200/200 [==============================] - 1s 4ms/step - loss: 0.1343 - acc: 0.9559 - val_loss: 0.2011 - val_acc: 0.9380\n",
            "Epoch 33/200\n",
            "200/200 [==============================] - 1s 4ms/step - loss: 0.1324 - acc: 0.9589 - val_loss: 0.1914 - val_acc: 0.9380\n",
            "Epoch 34/200\n",
            "200/200 [==============================] - 1s 4ms/step - loss: 0.1383 - acc: 0.9570 - val_loss: 0.1778 - val_acc: 0.9400\n",
            "Epoch 35/200\n",
            "200/200 [==============================] - 1s 4ms/step - loss: 0.1397 - acc: 0.9548 - val_loss: 0.2296 - val_acc: 0.9250\n",
            "Epoch 36/200\n",
            "200/200 [==============================] - 1s 4ms/step - loss: 0.1342 - acc: 0.9556 - val_loss: 0.2000 - val_acc: 0.9380\n",
            "Epoch 37/200\n",
            "200/200 [==============================] - 1s 4ms/step - loss: 0.1265 - acc: 0.9609 - val_loss: 0.1702 - val_acc: 0.9460\n",
            "Epoch 38/200\n",
            "200/200 [==============================] - 1s 4ms/step - loss: 0.1270 - acc: 0.9592 - val_loss: 0.1745 - val_acc: 0.9390\n",
            "Epoch 39/200\n",
            "200/200 [==============================] - 1s 4ms/step - loss: 0.1218 - acc: 0.9612 - val_loss: 0.1761 - val_acc: 0.9450\n",
            "Epoch 40/200\n",
            "200/200 [==============================] - 1s 4ms/step - loss: 0.1258 - acc: 0.9591 - val_loss: 0.1905 - val_acc: 0.9340\n",
            "Epoch 41/200\n",
            "200/200 [==============================] - 1s 4ms/step - loss: 0.1176 - acc: 0.9623 - val_loss: 0.1738 - val_acc: 0.9450\n",
            "Epoch 42/200\n",
            "200/200 [==============================] - 1s 4ms/step - loss: 0.1107 - acc: 0.9638 - val_loss: 0.1722 - val_acc: 0.9440\n",
            "Epoch 43/200\n",
            "200/200 [==============================] - 1s 4ms/step - loss: 0.1156 - acc: 0.9646 - val_loss: 0.1894 - val_acc: 0.9380\n",
            "Epoch 44/200\n",
            "200/200 [==============================] - 1s 4ms/step - loss: 0.1126 - acc: 0.9638 - val_loss: 0.1914 - val_acc: 0.9380\n",
            "Epoch 45/200\n",
            "200/200 [==============================] - 1s 4ms/step - loss: 0.1107 - acc: 0.9653 - val_loss: 0.1998 - val_acc: 0.9340\n",
            "Epoch 46/200\n",
            "200/200 [==============================] - 1s 4ms/step - loss: 0.1143 - acc: 0.9643 - val_loss: 0.1921 - val_acc: 0.9340\n",
            "Epoch 47/200\n",
            "200/200 [==============================] - 1s 4ms/step - loss: 0.1096 - acc: 0.9657 - val_loss: 0.1898 - val_acc: 0.9380\n",
            "Epoch 48/200\n",
            "200/200 [==============================] - 1s 4ms/step - loss: 0.1082 - acc: 0.9661 - val_loss: 0.1755 - val_acc: 0.9430\n",
            "Epoch 49/200\n",
            "200/200 [==============================] - 1s 4ms/step - loss: 0.1138 - acc: 0.9640 - val_loss: 0.2021 - val_acc: 0.9370\n",
            "Epoch 50/200\n",
            "200/200 [==============================] - 1s 3ms/step - loss: 0.1172 - acc: 0.9626 - val_loss: 0.1891 - val_acc: 0.9400\n",
            "Epoch 51/200\n",
            "200/200 [==============================] - 1s 4ms/step - loss: 0.1106 - acc: 0.9652 - val_loss: 0.1925 - val_acc: 0.9350\n",
            "Epoch 52/200\n",
            "200/200 [==============================] - 1s 4ms/step - loss: 0.1049 - acc: 0.9677 - val_loss: 0.2067 - val_acc: 0.9330\n",
            "Epoch 53/200\n",
            "200/200 [==============================] - 1s 4ms/step - loss: 0.1085 - acc: 0.9652 - val_loss: 0.1880 - val_acc: 0.9410\n",
            "Epoch 54/200\n",
            "200/200 [==============================] - 1s 4ms/step - loss: 0.1056 - acc: 0.9658 - val_loss: 0.1947 - val_acc: 0.9340\n",
            "Epoch 55/200\n",
            "200/200 [==============================] - 1s 4ms/step - loss: 0.1004 - acc: 0.9686 - val_loss: 0.1854 - val_acc: 0.9460\n",
            "Epoch 56/200\n",
            "200/200 [==============================] - 1s 4ms/step - loss: 0.1039 - acc: 0.9667 - val_loss: 0.1761 - val_acc: 0.9380\n",
            "Epoch 57/200\n",
            "200/200 [==============================] - 1s 4ms/step - loss: 0.1068 - acc: 0.9664 - val_loss: 0.1794 - val_acc: 0.9410\n",
            "Epoch 58/200\n",
            "200/200 [==============================] - 1s 4ms/step - loss: 0.1055 - acc: 0.9670 - val_loss: 0.1719 - val_acc: 0.9520\n",
            "Epoch 59/200\n",
            "200/200 [==============================] - 1s 4ms/step - loss: 0.1005 - acc: 0.9672 - val_loss: 0.1735 - val_acc: 0.9490\n",
            "Epoch 60/200\n",
            "200/200 [==============================] - 1s 4ms/step - loss: 0.0987 - acc: 0.9688 - val_loss: 0.1723 - val_acc: 0.9480\n",
            "Epoch 61/200\n",
            "200/200 [==============================] - 1s 4ms/step - loss: 0.1053 - acc: 0.9667 - val_loss: 0.1837 - val_acc: 0.9390\n",
            "Epoch 62/200\n",
            "200/200 [==============================] - 1s 4ms/step - loss: 0.1184 - acc: 0.9614 - val_loss: 0.1863 - val_acc: 0.9440\n",
            "Epoch 63/200\n",
            "200/200 [==============================] - 1s 4ms/step - loss: 0.1090 - acc: 0.9632 - val_loss: 0.1740 - val_acc: 0.9400\n",
            "Epoch 64/200\n",
            "200/200 [==============================] - 1s 4ms/step - loss: 0.1071 - acc: 0.9645 - val_loss: 0.1616 - val_acc: 0.9460\n",
            "Epoch 65/200\n",
            "200/200 [==============================] - 1s 4ms/step - loss: 0.1017 - acc: 0.9689 - val_loss: 0.1799 - val_acc: 0.9420\n",
            "Epoch 66/200\n",
            "200/200 [==============================] - 1s 4ms/step - loss: 0.1001 - acc: 0.9686 - val_loss: 0.1675 - val_acc: 0.9460\n",
            "Epoch 67/200\n",
            "200/200 [==============================] - 1s 4ms/step - loss: 0.0962 - acc: 0.9690 - val_loss: 0.1744 - val_acc: 0.9340\n",
            "Epoch 68/200\n",
            "200/200 [==============================] - 1s 4ms/step - loss: 0.1019 - acc: 0.9674 - val_loss: 0.1817 - val_acc: 0.9420\n",
            "Epoch 69/200\n",
            "200/200 [==============================] - 1s 4ms/step - loss: 0.0943 - acc: 0.9700 - val_loss: 0.1811 - val_acc: 0.9450\n",
            "Epoch 70/200\n",
            "200/200 [==============================] - 1s 4ms/step - loss: 0.0997 - acc: 0.9697 - val_loss: 0.1720 - val_acc: 0.9390\n",
            "Epoch 71/200\n",
            "200/200 [==============================] - 1s 4ms/step - loss: 0.1016 - acc: 0.9682 - val_loss: 0.1764 - val_acc: 0.9480\n",
            "Epoch 72/200\n",
            "200/200 [==============================] - 1s 5ms/step - loss: 0.0966 - acc: 0.9690 - val_loss: 0.1659 - val_acc: 0.9490\n",
            "Epoch 73/200\n",
            "200/200 [==============================] - 1s 4ms/step - loss: 0.0952 - acc: 0.9704 - val_loss: 0.1608 - val_acc: 0.9550\n",
            "Epoch 74/200\n",
            "200/200 [==============================] - 1s 3ms/step - loss: 0.0888 - acc: 0.9726 - val_loss: 0.1608 - val_acc: 0.9510\n",
            "Epoch 75/200\n",
            "200/200 [==============================] - 1s 4ms/step - loss: 0.0898 - acc: 0.9707 - val_loss: 0.1613 - val_acc: 0.9530\n",
            "Epoch 76/200\n",
            "200/200 [==============================] - 1s 4ms/step - loss: 0.0985 - acc: 0.9690 - val_loss: 0.1617 - val_acc: 0.9510\n",
            "Epoch 77/200\n",
            "200/200 [==============================] - 1s 4ms/step - loss: 0.1095 - acc: 0.9662 - val_loss: 0.1847 - val_acc: 0.9470\n",
            "Epoch 78/200\n",
            "200/200 [==============================] - 1s 4ms/step - loss: 0.1189 - acc: 0.9601 - val_loss: 0.1963 - val_acc: 0.9340\n",
            "Epoch 79/200\n",
            "200/200 [==============================] - 1s 4ms/step - loss: 0.1067 - acc: 0.9657 - val_loss: 0.1798 - val_acc: 0.9370\n",
            "Epoch 80/200\n",
            "200/200 [==============================] - 1s 4ms/step - loss: 0.0995 - acc: 0.9674 - val_loss: 0.1720 - val_acc: 0.9390\n",
            "Epoch 81/200\n",
            "200/200 [==============================] - 1s 4ms/step - loss: 0.0991 - acc: 0.9676 - val_loss: 0.1787 - val_acc: 0.9390\n",
            "Epoch 82/200\n",
            "200/200 [==============================] - 1s 6ms/step - loss: 0.0961 - acc: 0.9689 - val_loss: 0.1729 - val_acc: 0.9450\n",
            "Epoch 83/200\n",
            "200/200 [==============================] - 1s 5ms/step - loss: 0.0969 - acc: 0.9697 - val_loss: 0.1875 - val_acc: 0.9480\n",
            "Epoch 84/200\n",
            "200/200 [==============================] - 1s 5ms/step - loss: 0.0949 - acc: 0.9685 - val_loss: 0.1741 - val_acc: 0.9500\n",
            "Epoch 85/200\n",
            "200/200 [==============================] - 1s 5ms/step - loss: 0.1071 - acc: 0.9653 - val_loss: 0.1917 - val_acc: 0.9410\n",
            "Epoch 86/200\n",
            "200/200 [==============================] - 1s 6ms/step - loss: 0.0993 - acc: 0.9684 - val_loss: 0.1779 - val_acc: 0.9450\n",
            "Epoch 87/200\n",
            "200/200 [==============================] - 2s 10ms/step - loss: 0.1006 - acc: 0.9676 - val_loss: 0.1640 - val_acc: 0.9500\n",
            "Epoch 88/200\n",
            "200/200 [==============================] - 2s 8ms/step - loss: 0.0972 - acc: 0.9657 - val_loss: 0.1494 - val_acc: 0.9510\n",
            "Epoch 89/200\n",
            "200/200 [==============================] - 1s 7ms/step - loss: 0.0931 - acc: 0.9693 - val_loss: 0.1781 - val_acc: 0.9390\n",
            "Epoch 90/200\n",
            "200/200 [==============================] - 1s 6ms/step - loss: 0.0915 - acc: 0.9700 - val_loss: 0.1805 - val_acc: 0.9420\n",
            "Epoch 91/200\n",
            "200/200 [==============================] - 1s 6ms/step - loss: 0.0972 - acc: 0.9683 - val_loss: 0.1923 - val_acc: 0.9370\n",
            "Epoch 92/200\n",
            "200/200 [==============================] - 1s 6ms/step - loss: 0.1096 - acc: 0.9643 - val_loss: 0.1832 - val_acc: 0.9360\n",
            "Epoch 93/200\n",
            "200/200 [==============================] - 1s 7ms/step - loss: 0.1015 - acc: 0.9682 - val_loss: 0.2266 - val_acc: 0.9340\n",
            "Epoch 94/200\n",
            "200/200 [==============================] - 1s 5ms/step - loss: 0.1024 - acc: 0.9672 - val_loss: 0.1804 - val_acc: 0.9370\n",
            "Epoch 95/200\n",
            "200/200 [==============================] - 1s 4ms/step - loss: 0.0987 - acc: 0.9679 - val_loss: 0.1845 - val_acc: 0.9380\n",
            "Epoch 96/200\n",
            "200/200 [==============================] - 1s 4ms/step - loss: 0.1015 - acc: 0.9669 - val_loss: 0.1803 - val_acc: 0.9390\n",
            "Epoch 97/200\n",
            "200/200 [==============================] - 1s 5ms/step - loss: 0.0995 - acc: 0.9678 - val_loss: 0.1988 - val_acc: 0.9390\n",
            "Epoch 98/200\n",
            "200/200 [==============================] - 1s 4ms/step - loss: 0.0976 - acc: 0.9685 - val_loss: 0.1725 - val_acc: 0.9470\n",
            "Epoch 99/200\n",
            "200/200 [==============================] - 1s 4ms/step - loss: 0.0985 - acc: 0.9692 - val_loss: 0.1781 - val_acc: 0.9500\n",
            "Epoch 100/200\n",
            "200/200 [==============================] - 1s 4ms/step - loss: 0.0924 - acc: 0.9707 - val_loss: 0.1657 - val_acc: 0.9420\n",
            "Epoch 101/200\n",
            "200/200 [==============================] - 1s 4ms/step - loss: 0.0904 - acc: 0.9693 - val_loss: 0.1582 - val_acc: 0.9530\n",
            "Epoch 102/200\n",
            "200/200 [==============================] - 1s 4ms/step - loss: 0.0990 - acc: 0.9671 - val_loss: 0.1967 - val_acc: 0.9410\n",
            "Epoch 103/200\n",
            "200/200 [==============================] - 1s 5ms/step - loss: 0.1011 - acc: 0.9657 - val_loss: 0.1711 - val_acc: 0.9510\n",
            "Epoch 104/200\n",
            "200/200 [==============================] - 1s 4ms/step - loss: 0.0891 - acc: 0.9715 - val_loss: 0.1852 - val_acc: 0.9380\n",
            "Epoch 105/200\n",
            "200/200 [==============================] - 1s 4ms/step - loss: 0.0883 - acc: 0.9712 - val_loss: 0.1858 - val_acc: 0.9370\n",
            "Epoch 106/200\n",
            "200/200 [==============================] - 1s 4ms/step - loss: 0.0867 - acc: 0.9718 - val_loss: 0.1930 - val_acc: 0.9370\n",
            "Epoch 107/200\n",
            "200/200 [==============================] - 1s 4ms/step - loss: 0.0884 - acc: 0.9710 - val_loss: 0.1801 - val_acc: 0.9490\n",
            "Epoch 108/200\n",
            "200/200 [==============================] - 2s 8ms/step - loss: 0.0939 - acc: 0.9691 - val_loss: 0.1823 - val_acc: 0.9430\n",
            "Epoch 109/200\n",
            "200/200 [==============================] - 1s 4ms/step - loss: 0.0902 - acc: 0.9700 - val_loss: 0.1672 - val_acc: 0.9450\n",
            "Epoch 110/200\n",
            "200/200 [==============================] - 1s 4ms/step - loss: 0.0868 - acc: 0.9714 - val_loss: 0.1859 - val_acc: 0.9400\n",
            "Epoch 111/200\n",
            "200/200 [==============================] - 1s 4ms/step - loss: 0.0793 - acc: 0.9733 - val_loss: 0.1703 - val_acc: 0.9460\n",
            "Epoch 112/200\n",
            "200/200 [==============================] - 1s 4ms/step - loss: 0.0873 - acc: 0.9714 - val_loss: 0.1806 - val_acc: 0.9450\n",
            "Epoch 113/200\n",
            "200/200 [==============================] - 1s 4ms/step - loss: 0.0813 - acc: 0.9746 - val_loss: 0.1835 - val_acc: 0.9490\n",
            "Epoch 114/200\n",
            "200/200 [==============================] - 1s 5ms/step - loss: 0.0798 - acc: 0.9743 - val_loss: 0.1926 - val_acc: 0.9440\n",
            "Epoch 115/200\n",
            "200/200 [==============================] - 1s 4ms/step - loss: 0.0832 - acc: 0.9729 - val_loss: 0.2101 - val_acc: 0.9420\n",
            "Epoch 116/200\n",
            "200/200 [==============================] - 1s 5ms/step - loss: 0.0847 - acc: 0.9722 - val_loss: 0.1696 - val_acc: 0.9540\n",
            "Epoch 117/200\n",
            "200/200 [==============================] - 1s 4ms/step - loss: 0.0832 - acc: 0.9721 - val_loss: 0.1844 - val_acc: 0.9430\n",
            "Epoch 118/200\n",
            "200/200 [==============================] - 1s 4ms/step - loss: 0.0875 - acc: 0.9703 - val_loss: 0.1894 - val_acc: 0.9470\n",
            "Epoch 119/200\n",
            "200/200 [==============================] - 1s 5ms/step - loss: 0.0804 - acc: 0.9731 - val_loss: 0.1696 - val_acc: 0.9490\n",
            "Epoch 120/200\n",
            "200/200 [==============================] - 1s 5ms/step - loss: 0.0799 - acc: 0.9736 - val_loss: 0.1696 - val_acc: 0.9460\n",
            "Epoch 121/200\n",
            "200/200 [==============================] - 1s 4ms/step - loss: 0.0870 - acc: 0.9715 - val_loss: 0.1944 - val_acc: 0.9430\n",
            "Epoch 122/200\n",
            "200/200 [==============================] - 1s 5ms/step - loss: 0.0831 - acc: 0.9720 - val_loss: 0.1784 - val_acc: 0.9430\n",
            "Epoch 123/200\n",
            "200/200 [==============================] - 1s 4ms/step - loss: 0.0810 - acc: 0.9736 - val_loss: 0.1604 - val_acc: 0.9490\n",
            "Epoch 124/200\n",
            "200/200 [==============================] - 1s 4ms/step - loss: 0.0808 - acc: 0.9736 - val_loss: 0.1680 - val_acc: 0.9470\n",
            "Epoch 125/200\n",
            "200/200 [==============================] - 1s 4ms/step - loss: 0.0850 - acc: 0.9718 - val_loss: 0.1507 - val_acc: 0.9520\n",
            "Epoch 126/200\n",
            "200/200 [==============================] - 1s 4ms/step - loss: 0.0904 - acc: 0.9685 - val_loss: 0.1756 - val_acc: 0.9420\n",
            "Epoch 127/200\n",
            "200/200 [==============================] - 1s 4ms/step - loss: 0.0970 - acc: 0.9688 - val_loss: 0.1715 - val_acc: 0.9490\n",
            "Epoch 128/200\n",
            "200/200 [==============================] - 1s 4ms/step - loss: 0.0859 - acc: 0.9715 - val_loss: 0.1575 - val_acc: 0.9540\n",
            "Epoch 129/200\n",
            "200/200 [==============================] - 1s 4ms/step - loss: 0.0840 - acc: 0.9725 - val_loss: 0.1693 - val_acc: 0.9500\n",
            "Epoch 130/200\n",
            "200/200 [==============================] - 1s 4ms/step - loss: 0.0879 - acc: 0.9715 - val_loss: 0.1694 - val_acc: 0.9420\n",
            "Epoch 131/200\n",
            "200/200 [==============================] - 1s 4ms/step - loss: 0.0861 - acc: 0.9711 - val_loss: 0.1774 - val_acc: 0.9430\n",
            "Epoch 132/200\n",
            "200/200 [==============================] - 1s 4ms/step - loss: 0.0812 - acc: 0.9722 - val_loss: 0.1624 - val_acc: 0.9500\n",
            "Epoch 133/200\n",
            "200/200 [==============================] - 1s 4ms/step - loss: 0.0891 - acc: 0.9703 - val_loss: 0.1677 - val_acc: 0.9440\n",
            "Epoch 134/200\n",
            "200/200 [==============================] - 1s 4ms/step - loss: 0.0861 - acc: 0.9719 - val_loss: 0.1759 - val_acc: 0.9430\n",
            "Epoch 135/200\n",
            "200/200 [==============================] - 1s 4ms/step - loss: 0.0860 - acc: 0.9713 - val_loss: 0.1671 - val_acc: 0.9430\n",
            "Epoch 136/200\n",
            "200/200 [==============================] - 1s 4ms/step - loss: 0.0882 - acc: 0.9711 - val_loss: 0.1695 - val_acc: 0.9390\n",
            "Epoch 137/200\n",
            "200/200 [==============================] - 1s 4ms/step - loss: 0.0839 - acc: 0.9726 - val_loss: 0.1725 - val_acc: 0.9470\n",
            "Epoch 138/200\n",
            "200/200 [==============================] - 1s 4ms/step - loss: 0.0856 - acc: 0.9719 - val_loss: 0.1787 - val_acc: 0.9440\n",
            "Epoch 139/200\n",
            "200/200 [==============================] - 1s 4ms/step - loss: 0.0735 - acc: 0.9769 - val_loss: 0.1830 - val_acc: 0.9400\n",
            "Epoch 140/200\n",
            "200/200 [==============================] - 1s 4ms/step - loss: 0.0861 - acc: 0.9718 - val_loss: 0.1611 - val_acc: 0.9430\n",
            "Epoch 141/200\n",
            "200/200 [==============================] - 1s 4ms/step - loss: 0.0778 - acc: 0.9739 - val_loss: 0.1555 - val_acc: 0.9440\n",
            "Epoch 142/200\n",
            "200/200 [==============================] - 1s 4ms/step - loss: 0.0803 - acc: 0.9725 - val_loss: 0.1830 - val_acc: 0.9390\n",
            "Epoch 143/200\n",
            "200/200 [==============================] - 1s 4ms/step - loss: 0.0849 - acc: 0.9719 - val_loss: 0.1775 - val_acc: 0.9450\n",
            "Epoch 144/200\n",
            "200/200 [==============================] - 1s 4ms/step - loss: 0.0842 - acc: 0.9719 - val_loss: 0.1815 - val_acc: 0.9450\n",
            "Epoch 145/200\n",
            "200/200 [==============================] - 1s 4ms/step - loss: 0.0903 - acc: 0.9690 - val_loss: 0.1781 - val_acc: 0.9460\n",
            "Epoch 146/200\n",
            "200/200 [==============================] - 1s 4ms/step - loss: 0.0828 - acc: 0.9711 - val_loss: 0.1680 - val_acc: 0.9510\n",
            "Epoch 147/200\n",
            "200/200 [==============================] - 1s 4ms/step - loss: 0.0805 - acc: 0.9724 - val_loss: 0.1799 - val_acc: 0.9460\n",
            "Epoch 148/200\n",
            "200/200 [==============================] - 1s 4ms/step - loss: 0.0758 - acc: 0.9743 - val_loss: 0.1615 - val_acc: 0.9540\n",
            "Epoch 149/200\n",
            "200/200 [==============================] - 1s 4ms/step - loss: 0.0777 - acc: 0.9743 - val_loss: 0.1574 - val_acc: 0.9460\n",
            "Epoch 150/200\n",
            "200/200 [==============================] - 1s 4ms/step - loss: 0.0761 - acc: 0.9740 - val_loss: 0.1728 - val_acc: 0.9490\n",
            "Epoch 151/200\n",
            "200/200 [==============================] - 1s 4ms/step - loss: 0.0780 - acc: 0.9749 - val_loss: 0.1506 - val_acc: 0.9530\n",
            "Epoch 152/200\n",
            "200/200 [==============================] - 1s 4ms/step - loss: 0.0773 - acc: 0.9740 - val_loss: 0.1548 - val_acc: 0.9510\n",
            "Epoch 153/200\n",
            "200/200 [==============================] - 1s 4ms/step - loss: 0.0746 - acc: 0.9751 - val_loss: 0.1666 - val_acc: 0.9510\n",
            "Epoch 154/200\n",
            "200/200 [==============================] - 1s 4ms/step - loss: 0.0752 - acc: 0.9748 - val_loss: 0.1566 - val_acc: 0.9490\n",
            "Epoch 155/200\n",
            "200/200 [==============================] - 1s 4ms/step - loss: 0.0740 - acc: 0.9747 - val_loss: 0.1428 - val_acc: 0.9450\n",
            "Epoch 156/200\n",
            "200/200 [==============================] - 1s 4ms/step - loss: 0.0781 - acc: 0.9747 - val_loss: 0.1665 - val_acc: 0.9440\n",
            "Epoch 157/200\n",
            "200/200 [==============================] - 1s 4ms/step - loss: 0.0773 - acc: 0.9740 - val_loss: 0.1609 - val_acc: 0.9400\n",
            "Epoch 158/200\n",
            "200/200 [==============================] - 1s 4ms/step - loss: 0.0734 - acc: 0.9758 - val_loss: 0.1682 - val_acc: 0.9430\n",
            "Epoch 159/200\n",
            "200/200 [==============================] - 1s 4ms/step - loss: 0.0725 - acc: 0.9766 - val_loss: 0.1640 - val_acc: 0.9420\n",
            "Epoch 160/200\n",
            "200/200 [==============================] - 1s 4ms/step - loss: 0.0728 - acc: 0.9756 - val_loss: 0.1755 - val_acc: 0.9470\n",
            "Epoch 161/200\n",
            "200/200 [==============================] - 1s 4ms/step - loss: 0.0732 - acc: 0.9750 - val_loss: 0.1763 - val_acc: 0.9470\n",
            "Epoch 162/200\n",
            "200/200 [==============================] - 1s 4ms/step - loss: 0.0699 - acc: 0.9772 - val_loss: 0.1678 - val_acc: 0.9450\n",
            "Epoch 163/200\n",
            "200/200 [==============================] - 1s 4ms/step - loss: 0.0690 - acc: 0.9762 - val_loss: 0.1672 - val_acc: 0.9500\n",
            "Epoch 164/200\n",
            "200/200 [==============================] - 1s 4ms/step - loss: 0.0710 - acc: 0.9770 - val_loss: 0.1632 - val_acc: 0.9460\n",
            "Epoch 165/200\n",
            "200/200 [==============================] - 1s 4ms/step - loss: 0.0764 - acc: 0.9737 - val_loss: 0.1641 - val_acc: 0.9500\n",
            "Epoch 166/200\n",
            "200/200 [==============================] - 1s 5ms/step - loss: 0.0734 - acc: 0.9763 - val_loss: 0.1415 - val_acc: 0.9540\n",
            "Epoch 167/200\n",
            "200/200 [==============================] - 1s 4ms/step - loss: 0.0720 - acc: 0.9768 - val_loss: 0.1556 - val_acc: 0.9440\n",
            "Epoch 168/200\n",
            "200/200 [==============================] - 1s 4ms/step - loss: 0.0704 - acc: 0.9765 - val_loss: 0.1594 - val_acc: 0.9440\n",
            "Epoch 169/200\n",
            "200/200 [==============================] - 1s 4ms/step - loss: 0.0718 - acc: 0.9772 - val_loss: 0.1441 - val_acc: 0.9550\n",
            "Epoch 170/200\n",
            "200/200 [==============================] - 1s 4ms/step - loss: 0.0826 - acc: 0.9731 - val_loss: 0.1608 - val_acc: 0.9430\n",
            "Epoch 171/200\n",
            "200/200 [==============================] - 1s 4ms/step - loss: 0.0780 - acc: 0.9748 - val_loss: 0.1608 - val_acc: 0.9490\n",
            "Epoch 172/200\n",
            "200/200 [==============================] - 1s 4ms/step - loss: 0.0727 - acc: 0.9768 - val_loss: 0.1536 - val_acc: 0.9480\n",
            "Epoch 173/200\n",
            "200/200 [==============================] - 1s 4ms/step - loss: 0.0718 - acc: 0.9769 - val_loss: 0.1448 - val_acc: 0.9440\n",
            "Epoch 174/200\n",
            "200/200 [==============================] - 1s 4ms/step - loss: 0.0722 - acc: 0.9760 - val_loss: 0.1706 - val_acc: 0.9380\n",
            "Epoch 175/200\n",
            "200/200 [==============================] - 1s 4ms/step - loss: 0.0788 - acc: 0.9740 - val_loss: 0.1843 - val_acc: 0.9390\n",
            "Epoch 176/200\n",
            "200/200 [==============================] - 1s 4ms/step - loss: 0.0881 - acc: 0.9707 - val_loss: 0.1857 - val_acc: 0.9380\n",
            "Epoch 177/200\n",
            "200/200 [==============================] - 1s 4ms/step - loss: 0.0876 - acc: 0.9710 - val_loss: 0.1890 - val_acc: 0.9390\n",
            "Epoch 178/200\n",
            "200/200 [==============================] - 1s 4ms/step - loss: 0.0903 - acc: 0.9703 - val_loss: 0.1883 - val_acc: 0.9390\n",
            "Epoch 179/200\n",
            "200/200 [==============================] - 1s 5ms/step - loss: 0.0971 - acc: 0.9669 - val_loss: 0.1750 - val_acc: 0.9530\n",
            "Epoch 180/200\n",
            "200/200 [==============================] - 1s 4ms/step - loss: 0.0835 - acc: 0.9718 - val_loss: 0.1693 - val_acc: 0.9510\n",
            "Epoch 181/200\n",
            "200/200 [==============================] - 1s 4ms/step - loss: 0.0830 - acc: 0.9728 - val_loss: 0.1684 - val_acc: 0.9500\n",
            "Epoch 182/200\n",
            "200/200 [==============================] - 1s 4ms/step - loss: 0.0819 - acc: 0.9729 - val_loss: 0.1812 - val_acc: 0.9460\n",
            "Epoch 183/200\n",
            "200/200 [==============================] - 1s 4ms/step - loss: 0.0778 - acc: 0.9733 - val_loss: 0.1824 - val_acc: 0.9410\n",
            "Epoch 184/200\n",
            "200/200 [==============================] - 1s 4ms/step - loss: 0.0774 - acc: 0.9734 - val_loss: 0.1751 - val_acc: 0.9460\n",
            "Epoch 185/200\n",
            "200/200 [==============================] - 1s 4ms/step - loss: 0.0774 - acc: 0.9739 - val_loss: 0.1644 - val_acc: 0.9530\n",
            "Epoch 186/200\n",
            "200/200 [==============================] - 1s 4ms/step - loss: 0.0749 - acc: 0.9740 - val_loss: 0.1697 - val_acc: 0.9530\n",
            "Epoch 187/200\n",
            "200/200 [==============================] - 1s 4ms/step - loss: 0.0700 - acc: 0.9762 - val_loss: 0.1790 - val_acc: 0.9490\n",
            "Epoch 188/200\n",
            "200/200 [==============================] - 1s 4ms/step - loss: 0.0784 - acc: 0.9744 - val_loss: 0.1795 - val_acc: 0.9490\n",
            "Epoch 189/200\n",
            "200/200 [==============================] - 1s 4ms/step - loss: 0.0744 - acc: 0.9755 - val_loss: 0.1624 - val_acc: 0.9480\n",
            "Epoch 190/200\n",
            "200/200 [==============================] - 1s 4ms/step - loss: 0.0648 - acc: 0.9780 - val_loss: 0.1657 - val_acc: 0.9460\n",
            "Epoch 191/200\n",
            "200/200 [==============================] - 1s 4ms/step - loss: 0.0610 - acc: 0.9790 - val_loss: 0.1526 - val_acc: 0.9450\n",
            "Epoch 192/200\n",
            "200/200 [==============================] - 1s 4ms/step - loss: 0.0586 - acc: 0.9811 - val_loss: 0.1382 - val_acc: 0.9570\n",
            "Epoch 193/200\n",
            "200/200 [==============================] - 1s 4ms/step - loss: 0.0572 - acc: 0.9815 - val_loss: 0.1731 - val_acc: 0.9510\n",
            "Epoch 194/200\n",
            "200/200 [==============================] - 1s 4ms/step - loss: 0.0556 - acc: 0.9815 - val_loss: 0.1581 - val_acc: 0.9540\n",
            "Epoch 195/200\n",
            "200/200 [==============================] - 1s 4ms/step - loss: 0.0565 - acc: 0.9801 - val_loss: 0.1754 - val_acc: 0.9510\n",
            "Epoch 196/200\n",
            "200/200 [==============================] - 1s 4ms/step - loss: 0.0661 - acc: 0.9763 - val_loss: 0.1566 - val_acc: 0.9510\n",
            "Epoch 197/200\n",
            "200/200 [==============================] - 1s 5ms/step - loss: 0.0657 - acc: 0.9775 - val_loss: 0.1660 - val_acc: 0.9490\n",
            "Epoch 198/200\n",
            "200/200 [==============================] - 1s 5ms/step - loss: 0.0708 - acc: 0.9761 - val_loss: 0.1620 - val_acc: 0.9470\n",
            "Epoch 199/200\n",
            "200/200 [==============================] - 1s 4ms/step - loss: 0.0638 - acc: 0.9793 - val_loss: 0.1677 - val_acc: 0.9510\n",
            "Epoch 200/200\n",
            "200/200 [==============================] - 1s 4ms/step - loss: 0.0583 - acc: 0.9810 - val_loss: 0.1544 - val_acc: 0.9480\n"
          ]
        }
      ]
    },
    {
      "cell_type": "code",
      "source": [
        "from matplotlib.image import imread\n",
        "img=imread('cute.png')\n",
        "plt.imshow(img)\n",
        "plt.xticks([]); plt.yticks([])\n",
        "plt.show()\n",
        "\n",
        "print(\"오늘은 여기까지!\")"
      ],
      "metadata": {
        "colab": {
          "base_uri": "https://localhost:8080/",
          "height": 270
        },
        "id": "vo5X8A0mtHnx",
        "outputId": "b38c8082-aae2-4232-b103-8e2d4757a6fe"
      },
      "execution_count": 64,
      "outputs": [
        {
          "output_type": "display_data",
          "data": {
            "image/png": "[encoded data removed]",
            "text/plain": [
              "<Figure size 432x288 with 1 Axes>"
            ]
          },
          "metadata": {}
        },
        {
          "output_type": "stream",
          "name": "stdout",
          "text": [
            "오늘은 여기까지!\n"
          ]
        }
      ]
    },
    {
      "cell_type": "markdown",
      "source": [
        "이미지 불러오는 코드가 생각보다 긴데 모듈로 만들어서 쓰려면 주피터 노트북이 편하려나..."
      ],
      "metadata": {
        "id": "oz_1hUF4txJP"
      }
    }
  ]
}