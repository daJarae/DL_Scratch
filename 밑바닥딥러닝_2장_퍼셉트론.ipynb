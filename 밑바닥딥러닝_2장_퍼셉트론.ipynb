{
  "nbformat": 4,
  "nbformat_minor": 0,
  "metadata": {
    "colab": {
      "name": "밑바닥딥러닝_2장_퍼셉트론.ipynb",
      "provenance": [],
      "authorship_tag": "ABX9TyOVHJZFP4FOyE3YhbLfWiyj",
      "include_colab_link": true
    },
    "kernelspec": {
      "name": "python3",
      "display_name": "Python 3"
    },
    "language_info": {
      "name": "python"
    }
  },
  "cells": [
    {
      "cell_type": "markdown",
      "metadata": {
        "id": "view-in-github",
        "colab_type": "text"
      },
      "source": [
        "<a href=\"https://colab.research.google.com/github/daJarae/ML_DL/blob/main/%EB%B0%91%EB%B0%94%EB%8B%A5%EB%94%A5%EB%9F%AC%EB%8B%9D_2%EC%9E%A5_%ED%8D%BC%EC%85%89%ED%8A%B8%EB%A1%A0.ipynb\" target=\"_parent\"><img src=\"https://colab.research.google.com/assets/colab-badge.svg\" alt=\"Open In Colab\"/></a>"
      ]
    },
    {
      "cell_type": "markdown",
      "source": [
        "#정리\n",
        "\n",
        "퍼셉트론이란 입력을 받으면 (정해진 또는 학습되는 매개변수인) '가중치'와 '편향'으로 정해진 값 출력하는 알고리즘이다.\n",
        "\n",
        "단층 퍼셉트론으로 AND, OR (선형) 게이트를, 2층 퍼셉트론으로 XOR (비선형) 게이트를 표현할 수 있다.\n",
        "\n",
        "시그모이드 함수를 활성화 함수로 사용한 다층 퍼셉트론으로 *임의의 함수를 표현할 수 있음이 증명되었으며, *컴퓨터도 표현할 수 있다.\n",
        "\n",
        "*둘다 이론상 가능하다는 의미."
      ],
      "metadata": {
        "id": "rVTgS0UnbVj-"
      }
    },
    {
      "cell_type": "markdown",
      "source": [
        "#퍼셉트론: 일차원 x와 w, 편향 b의 선형 결합으로 이진 분류"
      ],
      "metadata": {
        "id": "rStxH57HVhE6"
      }
    },
    {
      "cell_type": "markdown",
      "source": [
        "1957년 프랑크 로젠블라트_ 퍼셉트론 알고리즘 고안\n",
        "\n",
        "다수의 신호를 입력 받아 하나의 신호 출력 / 특정 신호가 결과에 미칠 영향력은 가중치 w로 조절됨\n",
        "\n",
        "뉴런에 보내진 입력 신호*가중치 총합이 임계치(threshold)를 넘으면 1 출력 (=~뉴런 활성화라고 한다는데 아마 시냅스 연결적인 의미일듯)"
      ],
      "metadata": {
        "id": "JNmMsM_aPhu2"
      }
    },
    {
      "cell_type": "markdown",
      "source": [
        "퍼셉트론으로 풀 수 있는 간단한 문제: 단순한 논리회로"
      ],
      "metadata": {
        "id": "QBHgM4gyQeq3"
      }
    },
    {
      "cell_type": "markdown",
      "source": [
        "입력 후보 (0,0), (0,1), (1,1) 중 ((1,0)은 (0,1)과 같다고 간주)\n",
        "\n",
        "1.AND 게이트: (1,1)만 1"
      ],
      "metadata": {
        "id": "2_xNDdzeQ3As"
      }
    },
    {
      "cell_type": "code",
      "execution_count": 1,
      "metadata": {
        "id": "O8RVX0r5PaSI"
      },
      "outputs": [],
      "source": [
        "def and_gate(x1,x2):\n",
        "\n",
        "  if 0.5*x1+0.5*x2>=1:\n",
        "    return 1\n",
        "  else:\n",
        "    return 0\n",
        "\n",
        "#이 경우 w1=0.5, w2=0.5, theta=1이며 가능한 조합은 무수히 많음"
      ]
    },
    {
      "cell_type": "code",
      "source": [
        "print(and_gate(0,0),and_gate(0,1),and_gate(1,1))"
      ],
      "metadata": {
        "colab": {
          "base_uri": "https://localhost:8080/"
        },
        "id": "ai5HoDsDRagz",
        "outputId": "ba9c8bd5-6202-4e45-8489-3940c05b4e17"
      },
      "execution_count": 21,
      "outputs": [
        {
          "output_type": "stream",
          "name": "stdout",
          "text": [
            "0 0 1\n"
          ]
        }
      ]
    },
    {
      "cell_type": "markdown",
      "source": [
        "2. NAND 게이트: (1,1)만 0\n",
        "\n",
        "AND 게이트의 반대를 출력함"
      ],
      "metadata": {
        "id": "QITvasILRPYu"
      }
    },
    {
      "cell_type": "code",
      "source": [
        "def nand_gate(x1,x2):\n",
        "\n",
        "  if 0.5*x1+0.5*x2>=1:\n",
        "    return 0\n",
        "  else:\n",
        "    return 1"
      ],
      "metadata": {
        "id": "ViV2W06CROLH"
      },
      "execution_count": 7,
      "outputs": []
    },
    {
      "cell_type": "code",
      "source": [
        "print(nand_gate(0,0),nand_gate(0,1),nand_gate(1,1))"
      ],
      "metadata": {
        "colab": {
          "base_uri": "https://localhost:8080/"
        },
        "id": "1nTR7yeLRnKu",
        "outputId": "e430c309-38e6-4a41-919a-d0b0a065fe1d"
      },
      "execution_count": 19,
      "outputs": [
        {
          "output_type": "stream",
          "name": "stdout",
          "text": [
            "1 1 0\n"
          ]
        }
      ]
    },
    {
      "cell_type": "markdown",
      "source": [
        "3. OR 게이트: (0,0)만 0"
      ],
      "metadata": {
        "id": "TvXa3xdYRqLe"
      }
    },
    {
      "cell_type": "markdown",
      "source": [
        "코드를 좀더 머신러닝스럽게"
      ],
      "metadata": {
        "id": "gSh6bUECTeyz"
      }
    },
    {
      "cell_type": "code",
      "source": [
        "def or_gate(x1,x2):\n",
        "\n",
        "  import numpy as np\n",
        "  \n",
        "  x=np.array([x1,x2])\n",
        "  w=np.array([0.5,0.5])\n",
        "  b=-0.5\n",
        "\n",
        "  if np.sum(x*w)+b>=0:\n",
        "    return 1\n",
        "  else:\n",
        "    return 0"
      ],
      "metadata": {
        "id": "ZpudKzmVRtib"
      },
      "execution_count": 14,
      "outputs": []
    },
    {
      "cell_type": "code",
      "source": [
        "print(or_gate(0,0),or_gate(0,1),or_gate(1,1))"
      ],
      "metadata": {
        "colab": {
          "base_uri": "https://localhost:8080/"
        },
        "id": "SYnpwn1RRxNP",
        "outputId": "33488815-368c-4e51-d701-d096c9dd5f25"
      },
      "execution_count": 20,
      "outputs": [
        {
          "output_type": "stream",
          "name": "stdout",
          "text": [
            "0 1 1\n"
          ]
        }
      ]
    },
    {
      "cell_type": "markdown",
      "source": [
        "머신러닝에서 '학습'이란 문제 해결을 위한 위 w1, w2, theta와 같은 파라미터의 값을 컴퓨터가 스스로 설정하게 하는 작업\n",
        "\n",
        "사람은 적절한 모델과 학습데이터를 정함 (너무 하는 일이 없어보이는데..)"
      ],
      "metadata": {
        "id": "jRRR-Sf0R8Eo"
      }
    },
    {
      "cell_type": "markdown",
      "source": [
        "tmi: '편향'이란 np.sum(x*w)값에 관계없이 ' 원점으로 편향시켜서' 부등식의 우변을 0으로 맞춰주는 역할을 함"
      ],
      "metadata": {
        "id": "pOn7BLfmR1kq"
      }
    },
    {
      "cell_type": "markdown",
      "source": [
        "\n",
        "\n",
        "---\n",
        "\n"
      ],
      "metadata": {
        "id": "-pvYHE6-UnXV"
      }
    },
    {
      "cell_type": "markdown",
      "source": [
        "XOR 게이트: 0 1 0의 결과 반환\n",
        "\n",
        "안봐도 알겠지만 ☆기존 퍼셉트론 구조는 선형적이기에 매개변수만 바꿔서는 구현할 수 없다☆\n",
        "\n",
        "w 수가 많아져도 구조가 같다면 n차원에서의 직선이될 뿐이다 (x+y+z=1을 생각해봅시다)"
      ],
      "metadata": {
        "id": "JivMRa_DUlyx"
      }
    },
    {
      "cell_type": "markdown",
      "source": [
        "# 그래서 필요한 다층 퍼셉트론"
      ],
      "metadata": {
        "id": "QYZGIWlrVb0Q"
      }
    },
    {
      "cell_type": "markdown",
      "source": [
        "XOR 어게인"
      ],
      "metadata": {
        "id": "ZBNpfzv6WO9K"
      }
    },
    {
      "cell_type": "code",
      "source": [
        "def xor_gate(x1,x2): #입력: 2개\n",
        "\n",
        "  h1=or_gate(x1,x2)\n",
        "  h2=nand_gate(x1,x2) #2->2 은닉층\n",
        "  y=and_gate(h1,h2) #출력: 1개\n",
        "  \n",
        "  return y"
      ],
      "metadata": {
        "id": "6DrulGMbUaqb"
      },
      "execution_count": 41,
      "outputs": []
    },
    {
      "cell_type": "code",
      "source": [
        "xor_gate(1,0)"
      ],
      "metadata": {
        "colab": {
          "base_uri": "https://localhost:8080/"
        },
        "id": "sanRBd-uW1Qv",
        "outputId": "cd4882dd-2743-4c62-c700-17119cf2a9c0"
      },
      "execution_count": 42,
      "outputs": [
        {
          "output_type": "execute_result",
          "data": {
            "text/plain": [
              "1"
            ]
          },
          "metadata": {},
          "execution_count": 42
        }
      ]
    },
    {
      "cell_type": "code",
      "source": [
        "xor_gate(0,0)"
      ],
      "metadata": {
        "colab": {
          "base_uri": "https://localhost:8080/"
        },
        "id": "bNp4BHBBXQ9q",
        "outputId": "5ec30f2d-c53d-4124-f243-aacbb6936ca8"
      },
      "execution_count": 43,
      "outputs": [
        {
          "output_type": "execute_result",
          "data": {
            "text/plain": [
              "0"
            ]
          },
          "metadata": {},
          "execution_count": 43
        }
      ]
    },
    {
      "cell_type": "code",
      "source": [
        "xor_gate(1,1)"
      ],
      "metadata": {
        "colab": {
          "base_uri": "https://localhost:8080/"
        },
        "id": "ZDlU78MlYLTu",
        "outputId": "0aac0e17-d51b-4973-c36c-b1722a365473"
      },
      "execution_count": 44,
      "outputs": [
        {
          "output_type": "execute_result",
          "data": {
            "text/plain": [
              "0"
            ]
          },
          "metadata": {},
          "execution_count": 44
        }
      ]
    },
    {
      "cell_type": "markdown",
      "source": [
        "반년 전에는 이거 이해하는 것도 힘들었는데 지금 보니 당연한 이야기였다 (늘 있는 일이지만...)"
      ],
      "metadata": {
        "id": "qQspKbSHYSpV"
      }
    },
    {
      "cell_type": "markdown",
      "source": [
        "다층 퍼셉트론으로는 가산기, 10진수 변환 인코더 등부터 컴퓨터까지 표현 가능 \n",
        "\n",
        "(NAND 만으로 테트리스도 가능하다는데 - 과연 얼마나 스마트한 구조일지..)"
      ],
      "metadata": {
        "id": "zC90b2XoZ0bB"
      }
    },
    {
      "cell_type": "markdown",
      "source": [
        "AND / OR 게이트 - 반가산기와 전가산기 - 산술논리 연산장치(ALU) - CPU를 만드는 식\n",
        "\n",
        "결론: 다층 퍼셉트론은 비선형적인 표현이 가능 (시그모이드 함수를 활성화 함수로 이용하면 어떤 임의 함수도 표현할 수 있음이 증명됨 \n",
        "\n",
        "/ 다만 그 임의 함수를 나타내는 파라미터를 찾기 쉽다고는 안했다...)"
      ],
      "metadata": {
        "id": "I-OhCpWeaiY7"
      }
    },
    {
      "cell_type": "markdown",
      "source": [
        "\n",
        "\n",
        "---\n",
        "\n"
      ],
      "metadata": {
        "id": "8QK9P2XlbTHh"
      }
    }
  ]
}