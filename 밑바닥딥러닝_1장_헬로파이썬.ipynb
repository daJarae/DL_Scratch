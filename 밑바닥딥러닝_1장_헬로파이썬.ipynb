{
  "nbformat": 4,
  "nbformat_minor": 0,
  "metadata": {
    "colab": {
      "name": "밑바닥딥러닝_1장_헬로파이썬.ipynb",
      "provenance": [],
      "authorship_tag": "ABX9TyOBsc+M2SRUJUBrmnTixqeb",
      "include_colab_link": true
    },
    "kernelspec": {
      "name": "python3",
      "display_name": "Python 3"
    },
    "language_info": {
      "name": "python"
    }
  },
  "cells": [
    {
      "cell_type": "markdown",
      "metadata": {
        "id": "view-in-github",
        "colab_type": "text"
      },
      "source": [
        "<a href=\"https://colab.research.google.com/github/daJarae/ML_DL/blob/main/%EB%B0%91%EB%B0%94%EB%8B%A5%EB%94%A5%EB%9F%AC%EB%8B%9D_1%EC%9E%A5_%ED%97%AC%EB%A1%9C%ED%8C%8C%EC%9D%B4%EC%8D%AC.ipynb\" target=\"_parent\"><img src=\"https://colab.research.google.com/assets/colab-badge.svg\" alt=\"Open In Colab\"/></a>"
      ]
    },
    {
      "cell_type": "markdown",
      "source": [
        "#넘파이"
      ],
      "metadata": {
        "id": "USVa01Z3IU3f"
      }
    },
    {
      "cell_type": "markdown",
      "source": [
        "동적 언어: 변수 자료형을 상황에 맞게 <자동> 결정"
      ],
      "metadata": {
        "id": "gMlumWTwExaf"
      }
    },
    {
      "cell_type": "code",
      "execution_count": 2,
      "metadata": {
        "id": "-bGZPMHyEpem"
      },
      "outputs": [],
      "source": [
        "import numpy as np"
      ]
    },
    {
      "cell_type": "code",
      "source": [
        "X=np.array([[1,2],[3,4],[5,6]])"
      ],
      "metadata": {
        "id": "edLSq9bXIr7b"
      },
      "execution_count": 3,
      "outputs": []
    },
    {
      "cell_type": "markdown",
      "source": [
        "평탄화"
      ],
      "metadata": {
        "id": "5r6sZAhsIt_i"
      }
    },
    {
      "cell_type": "code",
      "source": [
        "X.flatten()"
      ],
      "metadata": {
        "colab": {
          "base_uri": "https://localhost:8080/"
        },
        "id": "dpALIP58IsXD",
        "outputId": "a366ea2b-efce-4691-b101-55cdf58579ca"
      },
      "execution_count": 4,
      "outputs": [
        {
          "output_type": "execute_result",
          "data": {
            "text/plain": [
              "array([1, 2, 3, 4, 5, 6])"
            ]
          },
          "metadata": {},
          "execution_count": 4
        }
      ]
    },
    {
      "cell_type": "markdown",
      "source": [
        "브로드캐스트"
      ],
      "metadata": {
        "id": "PlcVZDXgIvZV"
      }
    },
    {
      "cell_type": "code",
      "source": [
        "X*[1,2]"
      ],
      "metadata": {
        "colab": {
          "base_uri": "https://localhost:8080/"
        },
        "id": "JebAxbpiIwAu",
        "outputId": "2f169b4d-e672-4e41-fd4d-b98388b7100f"
      },
      "execution_count": 5,
      "outputs": [
        {
          "output_type": "execute_result",
          "data": {
            "text/plain": [
              "array([[ 1,  4],\n",
              "       [ 3,  8],\n",
              "       [ 5, 12]])"
            ]
          },
          "metadata": {},
          "execution_count": 5
        }
      ]
    },
    {
      "cell_type": "markdown",
      "source": [
        "배열 인덱스: 원하는 행 / 순서 임의"
      ],
      "metadata": {
        "id": "k-jPpEt2I2rs"
      }
    },
    {
      "cell_type": "code",
      "source": [
        "X[[2,0]]"
      ],
      "metadata": {
        "colab": {
          "base_uri": "https://localhost:8080/"
        },
        "id": "ITIDBDtaJeIz",
        "outputId": "e629b312-560d-4fcb-9d46-f6d787c32952"
      },
      "execution_count": 12,
      "outputs": [
        {
          "output_type": "execute_result",
          "data": {
            "text/plain": [
              "array([[5, 6],\n",
              "       [1, 2]])"
            ]
          },
          "metadata": {},
          "execution_count": 12
        }
      ]
    },
    {
      "cell_type": "markdown",
      "source": [
        "아래 두 방식과 혼동하지 말것"
      ],
      "metadata": {
        "id": "QfNIMZRKJ0Hk"
      }
    },
    {
      "cell_type": "code",
      "source": [
        "X[2,0]"
      ],
      "metadata": {
        "colab": {
          "base_uri": "https://localhost:8080/"
        },
        "id": "aLqBLaAAI1kj",
        "outputId": "d1b12950-bb04-4131-f13b-acf361573740"
      },
      "execution_count": 11,
      "outputs": [
        {
          "output_type": "execute_result",
          "data": {
            "text/plain": [
              "5"
            ]
          },
          "metadata": {},
          "execution_count": 11
        }
      ]
    },
    {
      "cell_type": "code",
      "source": [
        "X[2][0]"
      ],
      "metadata": {
        "colab": {
          "base_uri": "https://localhost:8080/"
        },
        "id": "of7A5OrHJxmF",
        "outputId": "5f1b5bea-88f1-4020-bd85-3775f35e5983"
      },
      "execution_count": 13,
      "outputs": [
        {
          "output_type": "execute_result",
          "data": {
            "text/plain": [
              "5"
            ]
          },
          "metadata": {},
          "execution_count": 13
        }
      ]
    },
    {
      "cell_type": "code",
      "source": [
        "# [[1,2],[3,4],[5,6]][2,0] TypeError (리스트는 tuple형 인덱스 불가)\n",
        "[[1,2],[3,4],[5,6]][2][0]  #가능"
      ],
      "metadata": {
        "colab": {
          "base_uri": "https://localhost:8080/"
        },
        "id": "gbzC8qKGJCu0",
        "outputId": "b80c92ff-6dce-4318-cac5-7dd0b3889025"
      },
      "execution_count": 14,
      "outputs": [
        {
          "output_type": "execute_result",
          "data": {
            "text/plain": [
              "5"
            ]
          },
          "metadata": {},
          "execution_count": 14
        }
      ]
    },
    {
      "cell_type": "code",
      "source": [
        "X=np.array([[[1,2],[3,4]],\n",
        "            [[5,6],[7,8]]]) #2*2*2 텐서\n",
        "print(X[1,1,1])\n",
        "print(X[1][1][1])"
      ],
      "metadata": {
        "colab": {
          "base_uri": "https://localhost:8080/"
        },
        "id": "RU0v8cAFKA0Y",
        "outputId": "8c3428c7-350d-44dc-e597-86ea7e647f24"
      },
      "execution_count": 17,
      "outputs": [
        {
          "output_type": "stream",
          "name": "stdout",
          "text": [
            "8\n",
            "8\n"
          ]
        }
      ]
    },
    {
      "cell_type": "markdown",
      "source": [
        "배열 조건문으로 마스크 생성"
      ],
      "metadata": {
        "id": "vMZQswFbKgjQ"
      }
    },
    {
      "cell_type": "code",
      "source": [
        "Y=X.flatten() \n",
        "Y < 5"
      ],
      "metadata": {
        "colab": {
          "base_uri": "https://localhost:8080/"
        },
        "id": "cSUq1fNlKWpJ",
        "outputId": "577c2da8-35c1-4f81-dca6-800b3ac38139"
      },
      "execution_count": 21,
      "outputs": [
        {
          "output_type": "execute_result",
          "data": {
            "text/plain": [
              "array([ True,  True,  True,  True, False, False, False, False])"
            ]
          },
          "metadata": {},
          "execution_count": 21
        }
      ]
    },
    {
      "cell_type": "markdown",
      "source": [
        "배열 조건문으로 부분집합 얻기"
      ],
      "metadata": {
        "id": "jHrBFZnXKtSU"
      }
    },
    {
      "cell_type": "code",
      "source": [
        "Y[Y<5]"
      ],
      "metadata": {
        "colab": {
          "base_uri": "https://localhost:8080/"
        },
        "id": "Yy-viDCPKspJ",
        "outputId": "59ea8eb4-7505-4fd9-96b5-cb2b344ef6bd"
      },
      "execution_count": 22,
      "outputs": [
        {
          "output_type": "execute_result",
          "data": {
            "text/plain": [
              "array([1, 2, 3, 4])"
            ]
          },
          "metadata": {},
          "execution_count": 22
        }
      ]
    },
    {
      "cell_type": "markdown",
      "source": [
        "\n",
        "\n",
        "---\n",
        "\n"
      ],
      "metadata": {
        "id": "NmMU4VcOLNBu"
      }
    },
    {
      "cell_type": "markdown",
      "source": [
        "#matplotlib"
      ],
      "metadata": {
        "id": "2lfIA4cVLLGm"
      }
    },
    {
      "cell_type": "markdown",
      "source": [
        "그래프"
      ],
      "metadata": {
        "id": "JPF9fp5MOZXF"
      }
    },
    {
      "cell_type": "code",
      "source": [
        "import matplotlib.pyplot as plt\n",
        "\n",
        "x=np.arange(0,5,0.1)\n",
        "\n",
        "plt.plot(x, np.sin(x), label='sin')\n",
        "plt.plot(x, np.cos(x), label='cos', linestyle='--')\n",
        "plt.legend() #label 기반 범례 표시\n",
        "plt.show() #해야 깔끔"
      ],
      "metadata": {
        "colab": {
          "base_uri": "https://localhost:8080/",
          "height": 265
        },
        "id": "UXAKsY86K3Yx",
        "outputId": "c522bd1e-d176-42d1-adfb-671504a75523"
      },
      "execution_count": 29,
      "outputs": [
        {
          "output_type": "display_data",
          "data": {
            "image/png": "[encoded data removed]",
            "text/plain": [
              "<Figure size 432x288 with 1 Axes>"
            ]
          },
          "metadata": {
            "needs_background": "light"
          }
        }
      ]
    },
    {
      "cell_type": "markdown",
      "source": [
        "plt.xlabel('x')와 plt.title('제목')을 추가할수도."
      ],
      "metadata": {
        "id": "YdcjPUBaNpDe"
      }
    },
    {
      "cell_type": "markdown",
      "source": [
        "이미지 표시"
      ],
      "metadata": {
        "id": "dHwdcGbPOXrg"
      }
    },
    {
      "cell_type": "code",
      "source": [
        "from matplotlib.image import imread\n",
        "\n",
        "plt.imshow(imread('flower.png'))\n",
        "plt.show()"
      ],
      "metadata": {
        "colab": {
          "base_uri": "https://localhost:8080/",
          "height": 269
        },
        "id": "4f01iOQiNoWp",
        "outputId": "e06adb34-97c6-4794-ec13-b1c6edff7c91"
      },
      "execution_count": 30,
      "outputs": [
        {
          "output_type": "display_data",
          "data": {
            "image/png": "[encoded data removed]",
            "text/plain": [
              "<Figure size 432x288 with 1 Axes>"
            ]
          },
          "metadata": {
            "needs_background": "light"
          }
        }
      ]
    }
  ]
}