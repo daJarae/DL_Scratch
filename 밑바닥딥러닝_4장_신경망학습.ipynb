{
  "nbformat": 4,
  "nbformat_minor": 0,
  "metadata": {
    "colab": {
      "name": "밑바닥딥러닝_4장_신경망학습.ipynb",
      "provenance": [],
      "collapsed_sections": [],
      "authorship_tag": "ABX9TyPpUcpRdEKV2DGBJo6rY4Tc",
      "include_colab_link": true
    },
    "kernelspec": {
      "name": "python3",
      "display_name": "Python 3"
    },
    "language_info": {
      "name": "python"
    }
  },
  "cells": [
    {
      "cell_type": "markdown",
      "metadata": {
        "id": "view-in-github",
        "colab_type": "text"
      },
      "source": [
        "<a href=\"https://colab.research.google.com/github/daJarae/DL_Scratch/blob/main/%EB%B0%91%EB%B0%94%EB%8B%A5%EB%94%A5%EB%9F%AC%EB%8B%9D_4%EC%9E%A5_%EC%8B%A0%EA%B2%BD%EB%A7%9D%ED%95%99%EC%8A%B5.ipynb\" target=\"_parent\"><img src=\"https://colab.research.google.com/assets/colab-badge.svg\" alt=\"Open In Colab\"/></a>"
      ]
    },
    {
      "cell_type": "markdown",
      "source": [
        "#정리"
      ],
      "metadata": {
        "id": "0r9m0OO2xYkV"
      }
    },
    {
      "cell_type": "markdown",
      "source": [
        "머신러닝: 사람이 문제 해결에 필요한 feature 등 설정함\n",
        "\n",
        "딥러닝: 입력에서 출력까지 사람의 개입이 없음 (개입 없이 결과 얻음) <- end-to-end ML\n",
        "\n",
        "범용 능력: 아직 보지 못한 데이터로 이루어진 문제도 해결할 수 있는 능력 (ML의 최종목표)\n",
        "\n",
        "오버피팅: 학습시킨 모델이 특정 데이터셋에만 지나치게 최적화된 상태\n",
        "\n",
        "손실함수: 학습 중 최적의 매개변수 값을 탐색하는 지표로, MSE(회귀)와 cross-entropy(분류)를 주로 사용"
      ],
      "metadata": {
        "id": "ihnOKjrQwg9l"
      }
    },
    {
      "cell_type": "markdown",
      "source": [
        "\n",
        "\n",
        "---\n",
        "\n"
      ],
      "metadata": {
        "id": "KBTJHPXlxt3k"
      }
    },
    {
      "cell_type": "code",
      "source": [
        "def imti(name):\n",
        "  from matplotlib.image import imread\n",
        "  img=imread(name+'.png')\n",
        "  plt.imshow(img)\n",
        "  plt.xticks([]); plt.yticks([])\n",
        "  plt.show()"
      ],
      "metadata": {
        "id": "GkXiSdeo_uem"
      },
      "execution_count": null,
      "outputs": []
    },
    {
      "cell_type": "markdown",
      "source": [
        "#손실함수"
      ],
      "metadata": {
        "id": "woLbBeLYxr5Q"
      }
    },
    {
      "cell_type": "markdown",
      "source": [
        "#오차제곱합"
      ],
      "metadata": {
        "id": "_1NtM83lxqNL"
      }
    },
    {
      "cell_type": "code",
      "execution_count": null,
      "metadata": {
        "id": "PCcv9RMUwc-1"
      },
      "outputs": [],
      "source": [
        "def mse(y,t):                   #y는 정답 배열, t는 예측 배열\n",
        "  return 0.5**np.sum((y-2)**2)  #0.5 곱은 영향은 크게 없고 미분 모양이 정갈해서로 앎"
      ]
    },
    {
      "cell_type": "code",
      "source": [
        "y=np.array([0.2,0.3,0.5])\n",
        "t=np.array([0,0,1])\n",
        "\n",
        "mse(y,t)"
      ],
      "metadata": {
        "colab": {
          "base_uri": "https://localhost:8080/"
        },
        "id": "6r3uWlSZzy-a",
        "outputId": "03824943-f2d1-4844-8c98-d68138ce1bd0"
      },
      "execution_count": null,
      "outputs": [
        {
          "output_type": "execute_result",
          "data": {
            "text/plain": [
              "0.0030017093384531513"
            ]
          },
          "metadata": {},
          "execution_count": 14
        }
      ]
    },
    {
      "cell_type": "markdown",
      "source": [
        "#교차 엔트로피"
      ],
      "metadata": {
        "id": "SRtBlYzaxu7b"
      }
    },
    {
      "cell_type": "code",
      "source": [
        "def cen(y,t):\n",
        "  c=1e-7      #np.log() 내부가 0이 되는 것 방지\n",
        "  return -np.sum(t*np.log(y+c))"
      ],
      "metadata": {
        "id": "yD15pA6azl-f"
      },
      "execution_count": null,
      "outputs": []
    },
    {
      "cell_type": "code",
      "source": [
        "y=np.array([0.2,0.3,0.5]) #array여야 c와 더해짐\n",
        "t=np.array([0,0,1])\n",
        "\n",
        "cen(y,t)"
      ],
      "metadata": {
        "colab": {
          "base_uri": "https://localhost:8080/"
        },
        "id": "V45srbGRzuz1",
        "outputId": "940955bc-c563-4550-fe3c-d92eeda82668"
      },
      "execution_count": null,
      "outputs": [
        {
          "output_type": "execute_result",
          "data": {
            "text/plain": [
              "0.6931469805599654"
            ]
          },
          "metadata": {},
          "execution_count": 12
        }
      ]
    },
    {
      "cell_type": "code",
      "source": [
        "#t가 1인 인덱스만 계산되므로 아래와 같음\n",
        "-np.log(0.5+1e-7)"
      ],
      "metadata": {
        "colab": {
          "base_uri": "https://localhost:8080/"
        },
        "id": "htHHyjuM0I9b",
        "outputId": "9ca4f183-5039-4639-a9f7-2dbe996429bf"
      },
      "execution_count": null,
      "outputs": [
        {
          "output_type": "execute_result",
          "data": {
            "text/plain": [
              "0.6931469805599654"
            ]
          },
          "metadata": {},
          "execution_count": 16
        }
      ]
    },
    {
      "cell_type": "markdown",
      "source": [
        "log(x): 인풋(신경망 출력값)이 1에 가까울수록 0에 가까운 음수를 반환\n",
        "\n",
        "이때 손실함수는 \"작을수록 좋은\" 것이므로\n",
        "\n",
        "x가 1에 가까울수록 작은 값을 내도록 -log(x)로 바꿔 사용"
      ],
      "metadata": {
        "id": "LEvuD7kh0T-J"
      }
    },
    {
      "cell_type": "code",
      "source": [
        "import matplotlib.pyplot as plt\n",
        "import numpy as np\n",
        "\n",
        "fig=plt.figure()\n",
        "\n",
        "plt.subplot(1,2,1)\n",
        "x=np.arange(0.01, 1.01, 0.02)\n",
        "plt.plot(x, np.log(x))\n",
        "plt.title('log(x)')\n",
        "\n",
        "plt.subplot(1,2,2)\n",
        "x=np.arange(0.01, 1.01, 0.02)\n",
        "plt.plot(x, -np.log(x))\n",
        "plt.title('-log(x)')\n",
        "\n",
        "plt.show()"
      ],
      "metadata": {
        "colab": {
          "base_uri": "https://localhost:8080/",
          "height": 281
        },
        "id": "tZWvz9Hsx9M1",
        "outputId": "31ec6282-de6e-4243-bc1b-4ac5be84d472"
      },
      "execution_count": null,
      "outputs": [
        {
          "output_type": "display_data",
          "data": {
            "image/png": "[encoded data removed]",
            "text/plain": [
              "<Figure size 432x288 with 2 Axes>"
            ]
          },
          "metadata": {
            "needs_background": "light"
          }
        }
      ]
    },
    {
      "cell_type": "markdown",
      "source": [
        "-log 함수 모양 상 0~0.2 사이에서 x값의 작은 변화에도 y값이 크게 바뀌고,\n",
        "\n",
        "x= 0.2 정도의 특정값 이상부터 x가 크게 변화해도 천천히 상승함\n",
        "\n",
        "이 상승 추세가 0 근처 x값은 빠르게 변화하도록 (큰 미분값),\n",
        "\n",
        " 1에 가까운 안정적인 출력값을 내는 x값은 천천히 변화하도록 (작은 미분값) 도와줄 것 같다"
      ],
      "metadata": {
        "id": "pd1Tq5Bhx7FV"
      }
    },
    {
      "cell_type": "markdown",
      "source": [
        "#미니배치 학습을 위한 교차 엔트로피"
      ],
      "metadata": {
        "id": "fUx9KCum4H6X"
      }
    },
    {
      "cell_type": "markdown",
      "source": [
        "데이터 하나 에 대한 크로스 엔트로피: E= -sum_k(t_k * log(y_k))\n",
        "\n",
        "데이터 여럿에 대한 크로스 엔트로피:  E= -sum_i(sum_k(t_i_k * log(y_i_k))) /n\n",
        "\n",
        "각 i번째 데이터의 t_k, y_k에 대해 위 계산 적용 후 평균값 구함!"
      ],
      "metadata": {
        "id": "71P9VSCn3lUJ"
      }
    },
    {
      "cell_type": "markdown",
      "source": [
        "#미니배치\n",
        "\n",
        "에포크마다 모든 데이터에 대해 loss를 계산하는 것은 비효율적으로 시간을 소모하기 때문에, \n",
        "\n",
        "일부 훈련데이터를 뽑아 실질 loss의 근사치를 찾기 위함"
      ],
      "metadata": {
        "id": "NyghFkYB4bLy"
      }
    },
    {
      "cell_type": "code",
      "source": [
        "from keras.datasets import mnist\n",
        "(train_x, train_y), (test_x, test_y)= mnist.load_data()"
      ],
      "metadata": {
        "colab": {
          "base_uri": "https://localhost:8080/"
        },
        "id": "eviUSEsa42FZ",
        "outputId": "dca24390-8911-4743-ee06-c3190361e9d2"
      },
      "execution_count": null,
      "outputs": [
        {
          "output_type": "stream",
          "name": "stdout",
          "text": [
            "Downloading data from https://storage.googleapis.com/tensorflow/tf-keras-datasets/mnist.npz\n",
            "11493376/11490434 [==============================] - 0s 0us/step\n",
            "11501568/11490434 [==============================] - 0s 0us/step\n"
          ]
        }
      ]
    },
    {
      "cell_type": "code",
      "source": [
        "train_x.shape[0]"
      ],
      "metadata": {
        "colab": {
          "base_uri": "https://localhost:8080/"
        },
        "id": "g3pFb_Sj5Y6i",
        "outputId": "a1bfe9d0-0124-474c-850b-26325c944243"
      },
      "execution_count": null,
      "outputs": [
        {
          "output_type": "execute_result",
          "data": {
            "text/plain": [
              "60000"
            ]
          },
          "metadata": {},
          "execution_count": 23
        }
      ]
    },
    {
      "cell_type": "code",
      "source": [
        "#넘파이에도 랜덤 선택이 있다!\n",
        "mini_mask=np.random.choice(train_x.shape[0], 3)"
      ],
      "metadata": {
        "id": "9KJEasphxxQ0"
      },
      "execution_count": null,
      "outputs": []
    },
    {
      "cell_type": "code",
      "source": [
        "print(mini_mask)\n",
        "print(train_y[mini_mask])"
      ],
      "metadata": {
        "colab": {
          "base_uri": "https://localhost:8080/"
        },
        "id": "VA1pU1VM5O9y",
        "outputId": "fdded263-268a-45c5-f42a-7dd961317935"
      },
      "execution_count": null,
      "outputs": [
        {
          "output_type": "stream",
          "name": "stdout",
          "text": [
            "[ 1424 58104 54367]\n",
            "[6 2 8]\n"
          ]
        }
      ]
    },
    {
      "cell_type": "markdown",
      "source": [
        "미니배치용 교차 엔트로피"
      ],
      "metadata": {
        "id": "plpOZQlc58NQ"
      }
    },
    {
      "cell_type": "code",
      "source": [
        "def cen(y,t):\n",
        "  #데이터 한 개 입력받을 경우\n",
        "  if y.ndim==1:\n",
        "    t=t.reshape(1, t.size); y=y.reshape(1,y.size)\n",
        "\n",
        "  batch_size=y.shape[0] #미니배치: 미니배치 묶음을 x,y에 할당\n",
        "  return -np.sum(t*np.log(y+1e-7))/batch_size\n",
        "\n",
        "#t가 [0,0,1] 등이 아닌 정수일 경우\n",
        "\n",
        "def cen2(y,t):\n",
        "  if y.ndim==1:\n",
        "    t=t.reshape(1, t.size); y=y.reshape(1,y.size)\n",
        "\n",
        "  batch_size=y.shape[0] #미니배치: 미니배치 묶음을 x,y에 할당\n",
        "  return -np.sum(np.log(y[np.arange(batch_size),t]+1e-7))/batch_size\n"
      ],
      "metadata": {
        "id": "tXyTvHb259ft"
      },
      "execution_count": null,
      "outputs": []
    },
    {
      "cell_type": "markdown",
      "source": [
        "막줄 코드는 이런 의미"
      ],
      "metadata": {
        "id": "oSO_DXTp8pGg"
      }
    },
    {
      "cell_type": "code",
      "source": [
        "y=np.array([[0.1,0.4,0,0.5],\n",
        "            [0.1,0.2,0,0.7],\n",
        "            [0.4,0.3,0.3,0]])\n",
        "\n",
        "y[[0,1,2],[0,1,2]] #(0,0), (1,1), (2,2) 위치의 값 반환"
      ],
      "metadata": {
        "colab": {
          "base_uri": "https://localhost:8080/"
        },
        "id": "cf5C0UDq8t2v",
        "outputId": "e050c1ee-fc95-452b-f9bd-96cf1d5b6d09"
      },
      "execution_count": null,
      "outputs": [
        {
          "output_type": "execute_result",
          "data": {
            "text/plain": [
              "array([0.1, 0.2, 0.3])"
            ]
          },
          "metadata": {},
          "execution_count": 38
        }
      ]
    },
    {
      "cell_type": "markdown",
      "source": [
        "아래처럼 정답 레이블 배열 t를 열의 인덱스로 사용"
      ],
      "metadata": {
        "id": "cbKqpFkw9Wb_"
      }
    },
    {
      "cell_type": "code",
      "source": [
        "y=np.array([[0.1,0.4,0,0.5],\n",
        "            [0.1,0.2,0,0.7],\n",
        "            [0.4,0.3,0.3,0]])\n",
        "\n",
        "print([np.arange(3),[3,3,0]])\n",
        "print(y[np.arange(3),[3,3,0]])"
      ],
      "metadata": {
        "colab": {
          "base_uri": "https://localhost:8080/"
        },
        "id": "zyh1zeCt7KyD",
        "outputId": "b9a6c1c8-3098-412b-eeb6-79aa45537372"
      },
      "execution_count": null,
      "outputs": [
        {
          "output_type": "stream",
          "name": "stdout",
          "text": [
            "[array([0, 1, 2]), [3, 3, 0]]\n",
            "[0.5 0.7 0.4]\n"
          ]
        }
      ]
    },
    {
      "cell_type": "markdown",
      "source": [
        "\n",
        "\n",
        "---\n",
        "\n"
      ],
      "metadata": {
        "id": "VoYMrZSY_SQO"
      }
    },
    {
      "cell_type": "markdown",
      "source": [
        "#정확도 대신 손실함수?\n",
        "\n",
        "정확도라는 지표를 놔두고 손실함수의 값이라는 우회적인 방법을 택하는 이유는\n",
        "\n",
        "손실함수를 최소화하는 매개변수를 찾는 과정에서 매개변수의 손실함수 미분을 계산하고 매개변수를 갱신하기 때문\n",
        "\n",
        "(근데 정확도도 미분값 업데이트는 가능하지 않나요? 대답이 안되는데)\n",
        "\n",
        "정확도의 경우 **미분 값이 대부분의 장소에서 0이 되기 때문에 매개변수 갱신이 어렵다**는데\n"
      ],
      "metadata": {
        "id": "1ptWb5VE9gm-"
      }
    },
    {
      "cell_type": "code",
      "source": [
        "imti('why')\n",
        "print('그 정확도 식은 뭐죠...? 당연히 손실함수의 음수 버전이 정확도를 의미하는 줄 알았는데')"
      ],
      "metadata": {
        "colab": {
          "base_uri": "https://localhost:8080/",
          "height": 270
        },
        "id": "tbFnypUL_3x0",
        "outputId": "4aa50e56-cde9-4999-be86-e9932fca4103"
      },
      "execution_count": null,
      "outputs": [
        {
          "output_type": "display_data",
          "data": {
            "image/png": "[encoded data removed]",
            "text/plain": [
              "<Figure size 432x288 with 1 Axes>"
            ]
          },
          "metadata": {}
        },
        {
          "output_type": "stream",
          "name": "stdout",
          "text": [
            "그 정확도 식은 뭐죠...? 당연히 손실함수의 음수 버전이 정확도를 의미하는 줄 알았는데\n"
          ]
        }
      ]
    },
    {
      "cell_type": "markdown",
      "source": [
        "\n",
        "\n",
        "---\n",
        "\n"
      ],
      "metadata": {
        "id": "191aWidq_TVW"
      }
    },
    {
      "cell_type": "markdown",
      "source": [
        "\n",
        "-> 아 추상적으로 '정확성을 나타내는 지표'로서의 정확도가 아니라 **(맞춘 개수/전체 문제수)**를 의미해서 불연속적이고,\n",
        "\n",
        "이는 **매개변수를 조금씩 바꿔가며 성능이 개선되는지 볼 수 없음**을 의미함 \n",
        "\n",
        "모든 점에서 기울기가 0이 되지 않는 시그모이드 함수가 유용"
      ],
      "metadata": {
        "id": "1nCpc6CR_RxE"
      }
    },
    {
      "cell_type": "code",
      "source": [
        "imti('why')\n",
        "print(\"근데 그러면 0이 되어서 문제이기 이전에 불연속적이어서 미분값이 없는 문제 아닌가요?\")"
      ],
      "metadata": {
        "colab": {
          "base_uri": "https://localhost:8080/",
          "height": 270
        },
        "id": "CPjTcacZ_9h3",
        "outputId": "2ef2d1c0-9c63-4482-bcb6-0a87ca250045"
      },
      "execution_count": null,
      "outputs": [
        {
          "output_type": "display_data",
          "data": {
            "image/png": "[encoded data removed]",
            "text/plain": [
              "<Figure size 432x288 with 1 Axes>"
            ]
          },
          "metadata": {}
        },
        {
          "output_type": "stream",
          "name": "stdout",
          "text": [
            "근데 그러면 0이 되어서 문제이기 이전에 불연속적이어서 미분값이 없는 문제 아닌가요?\n"
          ]
        }
      ]
    },
    {
      "cell_type": "markdown",
      "source": [
        "이산확률분포처럼 연속이라 가정하고 미분하고 y값 대입하는 식으로 미분 구하는 건가..."
      ],
      "metadata": {
        "id": "c-bGKuFqAoxV"
      }
    },
    {
      "cell_type": "markdown",
      "source": [
        "#수치 미분: 미분의 근사"
      ],
      "metadata": {
        "id": "7SG8UkLtP6fJ"
      }
    },
    {
      "cell_type": "markdown",
      "source": [
        "수치미분: 아주 작은 차분 f(x+h) - f(x) 을 이용해 순간 변화량의 근사값을 구함\n",
        "\n",
        "해석적 미분: 수식 전개 & h->0 극한으로 오차 포함하지 않는 미분값을 구함\n"
      ],
      "metadata": {
        "id": "3qGf-8qTRJMF"
      }
    },
    {
      "cell_type": "markdown",
      "source": [
        "\n",
        "해석적 미분이 안되는 함수식도 많기 때문에 수치 미분 이용, 이때 주의점\n",
        "\n",
        "1) h가 0에 근사할수록 미분값 식의 정확성은 높으나 1e-50처럼 작은 h를 쓸 경우 소수점 8자리 이하를 계산에서 생략하는 반올림 오차(rounding error) 문제를 일으킴\n",
        "(np.float32(1e-50)의 결과는 0)\n",
        "\n",
        "2) 조건 1 고려해 차분 계산시 기존의 전방 차분 식을 그대로 사용하는 것보다 중앙차분 f(x+h) - f(x-h) / 2h 를 이용하는 것이 나음 (같거나 낫다)"
      ],
      "metadata": {
        "id": "WfwSEM1zP7_k"
      }
    },
    {
      "cell_type": "markdown",
      "source": [
        "#편미분: 다변수 함수의 미분"
      ],
      "metadata": {
        "id": "t-kJqRwWROkM"
      }
    },
    {
      "cell_type": "markdown",
      "source": [
        "기울기(그라디언트): (df/dx1, df/dx2) 처럼 모든 변수의 편미분을 벡터로 정리한 것"
      ],
      "metadata": {
        "id": "6XfiFDgSRl48"
      }
    },
    {
      "cell_type": "code",
      "source": [
        "import numpy as np\n",
        "\n",
        "def gradient(f,x):\n",
        "  grad=np.zeros_like(x)\n",
        "\n",
        "  for i in range(x.size): #x배열 원소마다\n",
        "    temp=x[i]\n",
        "    x_=[n for n in x]\n",
        "\n",
        "    x_[i]=temp+0.001; f1=f(x_) #내부에서 x를 바꿀수가 있어??\n",
        "    x_[i]=temp-0.001; f2=f(x_)\n",
        "    grad[i]=round(((f1-f2)/0.02),5) \n",
        "\n",
        "  return grad"
      ],
      "metadata": {
        "id": "xmlEcwFGP5DP"
      },
      "execution_count": 125,
      "outputs": []
    },
    {
      "cell_type": "code",
      "source": [
        "def f(x):\n",
        "  return x[0]**2+x[1]**2"
      ],
      "metadata": {
        "id": "xODslUrcTVnD"
      },
      "execution_count": 126,
      "outputs": []
    },
    {
      "cell_type": "code",
      "source": [
        "from numpy import array as arr\n",
        "f(arr([0,1]))"
      ],
      "metadata": {
        "colab": {
          "base_uri": "https://localhost:8080/"
        },
        "id": "evAxhMPSTdRj",
        "outputId": "c9401808-d1bd-4452-d32d-11be313eb32d"
      },
      "execution_count": 127,
      "outputs": [
        {
          "output_type": "execute_result",
          "data": {
            "text/plain": [
              "1"
            ]
          },
          "metadata": {},
          "execution_count": 127
        }
      ]
    },
    {
      "cell_type": "code",
      "source": [
        "gradient(f, arr([3,4]))"
      ],
      "metadata": {
        "colab": {
          "base_uri": "https://localhost:8080/"
        },
        "id": "hZMojxvoTpZb",
        "outputId": "3f987506-fe7e-424b-f272-fa118be1e372"
      },
      "execution_count": 128,
      "outputs": [
        {
          "output_type": "execute_result",
          "data": {
            "text/plain": [
              "array([6, 8])"
            ]
          },
          "metadata": {},
          "execution_count": 128
        }
      ]
    },
    {
      "cell_type": "markdown",
      "source": [
        "분명 x[i]+0.0001을 대입하는데 왜 x[i]+1이 되는지 모르겠다.\n",
        "\n",
        "반올림 설정이 잘못 되어있는건지..ㅠ"
      ],
      "metadata": {
        "id": "c2DU26kGYtV7"
      }
    },
    {
      "cell_type": "markdown",
      "source": [
        "-> 일단은 코드 뜯어보고 수정함\n",
        "\n",
        "문제는\n",
        "\n",
        "1. temp=x 처럼 리스트 할당 시 주소 같아서 temp를 수정해도 x 같이 수정됨 (temp 사용 의미 x) \n",
        "\n",
        "      교재처럼 temp=x[i] 쓰고 temp 수정 후 x[i]=temp로 재할당은 가능\n",
        "\n",
        "\n",
        "2. grad[i]=(f1-f2)/0.02) 계산 할당시 5.99999... 나오면 소숫점 다 버리고 5로 내려버리는 문제\n",
        "\n",
        "      round 함수 쓰면 됨"
      ],
      "metadata": {
        "id": "bcwHjXKQY6tK"
      }
    },
    {
      "cell_type": "markdown",
      "source": [
        "#그라디언트의 중요성: \n",
        "\n",
        "기울기가 가리키는 쪽은 각 장소에서 함수의 출력값을 가장 크게 줄이는 방향임 (음수인 경우 지나온 방향을 가리키는 것으로 해석)"
      ],
      "metadata": {
        "id": "8lAByMOSZGHj"
      }
    },
    {
      "cell_type": "markdown",
      "source": [
        "#경사하강법\n",
        "\n",
        "기계학습이 학습단계에서 최적 매개변수를 찾아내듯 신경망도 학습 시 가중치, 편향 최적 찾아야함 (손실함수 최소)\n",
        "\n",
        "신경망 학습에 많이 사용\n",
        "\n",
        "\n",
        "- 광대한 매개변수 가능 범위에서 기울기를 활용해 최솟값을 찾음\n",
        "- 그러나 경사하강법이 **최솟값 도달을 보장하지 않음**\n",
        "- 경사하강법은 **기울기가 0**인 장소를 찾으므로 global min, local min, saddle point 중 하나를 찾게됨\n",
        "- **복잡하고 찌그러진 함수는 plateau**(고원. 학습 정체를 일으키는 편평한 지대)에 빠질수도"
      ],
      "metadata": {
        "id": "R_nFnMqVZUBD"
      }
    },
    {
      "cell_type": "markdown",
      "source": [
        "경사법 수식: x0=x0-n*(df/dx0)\n",
        "\n",
        "학습률 n은 신경망 학습 중 변경하면서 올바르게 학습되는지 확인 필요"
      ],
      "metadata": {
        "id": "xWStmDnqaovb"
      }
    },
    {
      "cell_type": "markdown",
      "source": [
        "부호가 반대면 경사상승법이라 부름 (기타 동일)"
      ],
      "metadata": {
        "id": "Jge35y_Kabda"
      }
    },
    {
      "cell_type": "code",
      "source": [
        "def gradient_desc(f, init_x, steps,lr=0.01):\n",
        "  x=init_x\n",
        "\n",
        "  for _ in range(steps):\n",
        "\n",
        "    grad=arr(gradient(f,x)).astype(np.float)\n",
        "    x=x-lr*grad #int array면 -= 연산이 안됨 (x=x-~는 가능)\n",
        "\n",
        "  return x"
      ],
      "metadata": {
        "id": "0sBRK2OtTg5X"
      },
      "execution_count": 129,
      "outputs": []
    },
    {
      "cell_type": "code",
      "source": [
        "gradient_desc(f, init_x=arr([0,1]),steps=100,lr=0.1)"
      ],
      "metadata": {
        "colab": {
          "base_uri": "https://localhost:8080/"
        },
        "id": "fkD1ES94eJmz",
        "outputId": "b8f48823-f0e5-4dd4-be4e-27574e3a3215"
      },
      "execution_count": 131,
      "outputs": [
        {
          "output_type": "execute_result",
          "data": {
            "text/plain": [
              "array([0.e+00, 2.e-06])"
            ]
          },
          "metadata": {},
          "execution_count": 131
        }
      ]
    },
    {
      "cell_type": "code",
      "source": [
        "gradient_desc(f, init_x=arr([0,1]),steps=100,lr=5)\n",
        "\n",
        "#학습률이 너무 크면 발산"
      ],
      "metadata": {
        "colab": {
          "base_uri": "https://localhost:8080/"
        },
        "id": "QXRh-va5h1q5",
        "outputId": "01fe3372-b87b-4c4c-b94b-6fc7c98823fb"
      },
      "execution_count": 134,
      "outputs": [
        {
          "output_type": "execute_result",
          "data": {
            "text/plain": [
              "array([ 0.00000000e+00, -2.35278097e+14])"
            ]
          },
          "metadata": {},
          "execution_count": 134
        }
      ]
    },
    {
      "cell_type": "code",
      "source": [
        "gradient_desc(f, init_x=arr([0,1]),steps=100,lr=1e-10)\n",
        "\n",
        "#학습률이 너무 작으면 갱신 거의 x "
      ],
      "metadata": {
        "colab": {
          "base_uri": "https://localhost:8080/"
        },
        "id": "ozNIXKVHi0GI",
        "outputId": "0d9ce6e3-2295-470e-de1e-7bdffa6c08bb"
      },
      "execution_count": 135,
      "outputs": [
        {
          "output_type": "execute_result",
          "data": {
            "text/plain": [
              "array([0.        , 0.99999998])"
            ]
          },
          "metadata": {},
          "execution_count": 135
        }
      ]
    },
    {
      "cell_type": "markdown",
      "source": [
        "#하이퍼파라미터\n",
        "\n",
        "학습률 같은 매개변수. 학습 알고리즘에 의해 획득되는 신경망의 매개변수 (가중치, 편향)과 달리 사람이 직접 설정해야함.\n",
        "\n",
        " (여러 후보를 시험해보고 가장 잘 학습하는 값 찾음)"
      ],
      "metadata": {
        "id": "dcq57Kyai9CA"
      }
    },
    {
      "cell_type": "code",
      "source": [
        "from my import softmax #오오오 된다..!!"
      ],
      "metadata": {
        "id": "47VxyT_2k6F0"
      },
      "execution_count": 137,
      "outputs": []
    },
    {
      "cell_type": "code",
      "source": [
        "from md import imti\n",
        "imti('export(19)')"
      ],
      "metadata": {
        "colab": {
          "base_uri": "https://localhost:8080/",
          "height": 252
        },
        "id": "_DKedSuZlVyz",
        "outputId": "2821bc1f-f727-4ce3-c16f-4c3f80c357db"
      },
      "execution_count": 180,
      "outputs": [
        {
          "output_type": "display_data",
          "data": {
            "image/png": "[encoded data removed]",
            "text/plain": [
              "<Figure size 432x288 with 1 Axes>"
            ]
          },
          "metadata": {}
        }
      ]
    },
    {
      "cell_type": "code",
      "source": [
        "softmax(arr([1,2]))"
      ],
      "metadata": {
        "colab": {
          "base_uri": "https://localhost:8080/"
        },
        "id": "W2_SvqYllIWY",
        "outputId": "b65cb20e-62d2-45db-97c8-1b93799ca427"
      },
      "execution_count": 142,
      "outputs": [
        {
          "output_type": "execute_result",
          "data": {
            "text/plain": [
              "array([0.26894142, 0.73105858])"
            ]
          },
          "metadata": {},
          "execution_count": 142
        }
      ]
    },
    {
      "cell_type": "markdown",
      "source": [
        "#간단 신경망"
      ],
      "metadata": {
        "id": "EhzzaDlpl0WC"
      }
    },
    {
      "cell_type": "code",
      "source": [
        "from md import softmax, cen"
      ],
      "metadata": {
        "id": "89Rbetuelzyn"
      },
      "execution_count": 160,
      "outputs": []
    },
    {
      "cell_type": "code",
      "source": [
        "np.random.randn(2,3) #정규분포 원소로 2x3 크기 행렬 뽑아옴"
      ],
      "metadata": {
        "colab": {
          "base_uri": "https://localhost:8080/"
        },
        "id": "4vREb6ronZP3",
        "outputId": "793e03d0-a34f-4cca-88a9-f2909ce45857"
      },
      "execution_count": 161,
      "outputs": [
        {
          "output_type": "execute_result",
          "data": {
            "text/plain": [
              "array([[ 1.04527599, -1.65494428,  1.30737714],\n",
              "       [ 1.852693  ,  0.15751533, -0.22133321]])"
            ]
          },
          "metadata": {},
          "execution_count": 161
        }
      ]
    },
    {
      "cell_type": "code",
      "source": [
        "class Net:\n",
        "  def __init__(self):\n",
        "    self.w=np.random.randn(2,3) #모델 생성시, 가중치 초기화\n",
        "\n",
        "  def predict(self, x):\n",
        "    return np.dot(x, self.w) #편향은 없다는 설정인듯\n",
        "\n",
        "  def loss(self, x, t):\n",
        "    return cen(softmax(self.predict(x)),t) #손실 계산할 때도 softmax 거친다!"
      ],
      "metadata": {
        "id": "kPLFTI9InOZ5"
      },
      "execution_count": 162,
      "outputs": []
    },
    {
      "cell_type": "code",
      "source": [
        "net=Net()\n",
        "print(net.w)"
      ],
      "metadata": {
        "colab": {
          "base_uri": "https://localhost:8080/"
        },
        "id": "so0BksSvoEY1",
        "outputId": "a5907123-8624-40de-91d1-d74b52c2df9b"
      },
      "execution_count": 170,
      "outputs": [
        {
          "output_type": "stream",
          "name": "stdout",
          "text": [
            "[[-1.17352868  0.53543484  0.02759282]\n",
            " [-1.12735131  1.49118269 -0.11663377]]\n"
          ]
        }
      ]
    },
    {
      "cell_type": "code",
      "source": [
        "x=arr([0.6,0.9])\n",
        "p=net.predict(x)\n",
        "print(p)\n",
        "print(np.argmax(p)) #소맥 없이 사용 가능"
      ],
      "metadata": {
        "colab": {
          "base_uri": "https://localhost:8080/"
        },
        "id": "_q5BPbc4oGv0",
        "outputId": "d65c2606-abef-4fc6-bf4c-8ec58db1ad0b"
      },
      "execution_count": 164,
      "outputs": [
        {
          "output_type": "stream",
          "name": "stdout",
          "text": [
            "[0.3817427  1.04537259 0.16490993]\n",
            "1\n"
          ]
        }
      ]
    },
    {
      "cell_type": "code",
      "source": [
        "temp_ans=softmax(net.predict(x))\n",
        "print(temp_ans) #최종 레이블과 함께 다른 레이블 확률도 볼 때 사용\n",
        "print(np.argmax(temp_ans)+1) #레이블이 1번부터라면 +1"
      ],
      "metadata": {
        "colab": {
          "base_uri": "https://localhost:8080/"
        },
        "id": "udBEH2VooMEA",
        "outputId": "4479cc01-89cb-4220-cce5-4f2c8eed31d9"
      },
      "execution_count": 165,
      "outputs": [
        {
          "output_type": "stream",
          "name": "stdout",
          "text": [
            "[0.26688781 0.51825027 0.21486192]\n",
            "2\n"
          ]
        }
      ]
    },
    {
      "cell_type": "code",
      "source": [
        "t=np.array([0,0,1]) #정답이 3번이었다면\n",
        "net.loss(x, t)"
      ],
      "metadata": {
        "colab": {
          "base_uri": "https://localhost:8080/"
        },
        "id": "1BSfwUCVoRe6",
        "outputId": "102559df-d300-40b1-fdeb-ebfa9710d765"
      },
      "execution_count": 166,
      "outputs": [
        {
          "output_type": "execute_result",
          "data": {
            "text/plain": [
              "1.5378"
            ]
          },
          "metadata": {},
          "execution_count": 166
        }
      ]
    },
    {
      "cell_type": "code",
      "source": [
        "from md import gradient\n",
        "f= lambda w: net.loss(x,t) #w는 임의 변수\n",
        "dw=gradient(f, net.w) #net.loss 방식으로 net.w의 gradient 계산"
      ],
      "metadata": {
        "id": "w_VembkvqLBF"
      },
      "execution_count": 177,
      "outputs": []
    },
    {
      "cell_type": "code",
      "source": [
        "dw #rounding error가 또 발생한듯 하다.. 하지만 md 파일에서는 문제 없었는데...\n",
        "\n",
        "#위 계산 과정에서 소수점이 많이 낮아지는 걸수도."
      ],
      "metadata": {
        "colab": {
          "base_uri": "https://localhost:8080/"
        },
        "id": "m0Qi599Lt8HT",
        "outputId": "1e546387-12f5-47ab-810a-6a4c76760b16"
      },
      "execution_count": 178,
      "outputs": [
        {
          "output_type": "execute_result",
          "data": {
            "text/plain": [
              "array([[0., 0., 0.],\n",
              "       [0., 0., 0.]])"
            ]
          },
          "metadata": {},
          "execution_count": 178
        }
      ]
    },
    {
      "cell_type": "code",
      "source": [
        "imti('disappointed')"
      ],
      "metadata": {
        "colab": {
          "base_uri": "https://localhost:8080/",
          "height": 252
        },
        "id": "6gLero7tuyZt",
        "outputId": "40af0679-4ef7-4955-f8f2-99d3af312b8a"
      },
      "execution_count": 181,
      "outputs": [
        {
          "output_type": "display_data",
          "data": {
            "image/png": "[encoded data removed]",
            "text/plain": [
              "<Figure size 432x288 with 1 Axes>"
            ]
          },
          "metadata": {}
        }
      ]
    },
    {
      "cell_type": "markdown",
      "source": [
        "#학습알고리즘\n",
        "\n",
        "전제: 신경망의 가중치. 편향을 훈련 데이터에 적응하도록 '학습'시킴\n",
        "\n",
        "미니배치: 훈련 데이터 일부를 무작위로 선별한 데이터 묶음\n",
        "\n",
        "\n",
        "\n",
        "경사법: 각 에포크 내 스텝에서 미니배치를 바탕으로\n",
        "\n",
        " 가중치에 대한 손실함수 미분값을 구하고\n",
        " \n",
        " 이 손실함수 최소화 방향 정보(그라디언트)를 사용해 매개변수를 조금씩 갱신\n"
      ],
      "metadata": {
        "id": "LhSBohBXvVjx"
      }
    },
    {
      "cell_type": "markdown",
      "source": [
        "그럼 미니배치에 대한 손실 계산은 실질적으로 사람 확인용 (history 출력)이지 계산에 이용되진 않는군요..."
      ],
      "metadata": {
        "id": "QJ4yMnG3whDv"
      }
    },
    {
      "cell_type": "markdown",
      "source": [
        "#확률적 경사 하강법 SGD\n",
        "\n",
        "매개변수 갱신용 데이터를 미니배치로 무작위 선정하기 때문에 확률적 경사 하강법이라 부름 (!!)"
      ],
      "metadata": {
        "id": "gjd3SA9KwrEc"
      }
    },
    {
      "cell_type": "markdown",
      "source": [
        "4.5.1부터의 내용은 MNIST 데이터를 이용한 실습이므로 새로운 노트를 열겠습니다~"
      ],
      "metadata": {
        "id": "4Y5CfKXww7De"
      }
    },
    {
      "cell_type": "code",
      "source": [
        "imti('miniheart')"
      ],
      "metadata": {
        "colab": {
          "base_uri": "https://localhost:8080/",
          "height": 252
        },
        "id": "CL2RdoEMxBuk",
        "outputId": "e75c0c9e-d383-45c0-f680-98f36b46637e"
      },
      "execution_count": 182,
      "outputs": [
        {
          "output_type": "display_data",
          "data": {
            "image/png": "[encoded data removed]",
            "text/plain": [
              "<Figure size 432x288 with 1 Axes>"
            ]
          },
          "metadata": {}
        }
      ]
    }
  ]
}