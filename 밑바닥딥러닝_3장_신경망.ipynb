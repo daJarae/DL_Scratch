{
  "nbformat": 4,
  "nbformat_minor": 0,
  "metadata": {
    "colab": {
      "name": "밑바닥딥러닝_3장_신경망.ipynb",
      "provenance": [],
      "collapsed_sections": [],
      "authorship_tag": "ABX9TyOXfT9lVjpTsG1H2MXp/fDz",
      "include_colab_link": true
    },
    "kernelspec": {
      "name": "python3",
      "display_name": "Python 3"
    },
    "language_info": {
      "name": "python"
    }
  },
  "cells": [
    {
      "cell_type": "markdown",
      "metadata": {
        "id": "view-in-github",
        "colab_type": "text"
      },
      "source": [
        "<a href=\"https://colab.research.google.com/github/daJarae/ML_DL/blob/main/%EB%B0%91%EB%B0%94%EB%8B%A5%EB%94%A5%EB%9F%AC%EB%8B%9D_3%EC%9E%A5_%EC%8B%A0%EA%B2%BD%EB%A7%9D.ipynb\" target=\"_parent\"><img src=\"https://colab.research.google.com/assets/colab-badge.svg\" alt=\"Open In Colab\"/></a>"
      ]
    },
    {
      "cell_type": "markdown",
      "source": [
        "#정리\n"
      ],
      "metadata": {
        "id": "tEleLVSVcv3j"
      }
    },
    {
      "cell_type": "markdown",
      "source": [
        "이모티콘 띄우는 함수!"
      ],
      "metadata": {
        "id": "_EKbFvverCT2"
      }
    },
    {
      "cell_type": "code",
      "source": [
        "def imti(name):\n",
        "  import matplotlib.pyplot as plt\n",
        "  from matplotlib.image import imread\n",
        "  plt.imshow(imread(name+'.png'))\n",
        "  plt.show()"
      ],
      "metadata": {
        "id": "6_iUPBdxrB6X"
      },
      "execution_count": 42,
      "outputs": []
    },
    {
      "cell_type": "markdown",
      "source": [
        "#신경망과 퍼셉트론\n",
        "\n",
        "\n",
        "신경망에서도 층, 뉴런이 연결되는 방식은 퍼셉트론과 비슷하나 **활성화 함수**가 다르다\n",
        "\n"
      ],
      "metadata": {
        "id": "z6rn_WGtcxHQ"
      }
    },
    {
      "cell_type": "markdown",
      "source": [
        "tmi: n층 신경망은 문헌에 따라 (출력층을 제외하고) 가중치가 존재하는 항만 셀수도, 전체 층을 셀 수도 있음\n",
        "\n",
        "**편향은 모든 층에서 입력값으로 추가**됨 (입력 신호는 항상 1로 편향 가중치 w가 편향 값을 조정하는 셈)"
      ],
      "metadata": {
        "id": "IB9wxHO9dOiX"
      }
    },
    {
      "cell_type": "markdown",
      "source": [
        "#활성화 함수\n",
        "\n",
        "\n",
        "입력 신호의 총합을 출력 신호로 변환하는 함수\n",
        "\n",
        "입력 신호의 총합이 '활성화'를 일으키는지 정한다는 의미에서 활성화 라고 하는데, \n",
        "\n",
        "최종 출력이 아닐 때도 있으므로 pass/ non-pass 같은 의미의 활성화보다는 활성 정도...로 생각하는 게 나을지도 "
      ],
      "metadata": {
        "id": "5cFceqoxeX8V"
      }
    },
    {
      "cell_type": "markdown",
      "source": [
        "#계단 함수\n",
        "\n",
        "특정 숫자인 **임계값을 기점으로** 그보다 크거나 작은 입력값의 출력이 다른 함수\n",
        "\n",
        "    if y=>1: return 1\n",
        "        else: return 0\n",
        "\n",
        "위 if문(계단 함수)가 퍼셉트론의 활성화 함수!"
      ],
      "metadata": {
        "id": "GEEsETnnfMn6"
      }
    },
    {
      "cell_type": "markdown",
      "source": [
        "참고로 아래 코드는 배열을 x로 받을 때 모호해지는 문제로 인해 ValueError가 발생한다"
      ],
      "metadata": {
        "id": "uZ_Nu-YwhTLV"
      }
    },
    {
      "cell_type": "code",
      "source": [
        "import numpy as np\n",
        "import matplotlib.pyplot as plt\n",
        "\n",
        "x=np.arange(0,5,0.1)\n",
        "\n",
        "def f(x):\n",
        "  if x>=2:\n",
        "    return 1\n",
        "  else:\n",
        "    return 0\n",
        "\n",
        "plt.plot(x, f(x))\n",
        "plt.title('Step')\n",
        "plt.show()"
      ],
      "metadata": {
        "colab": {
          "base_uri": "https://localhost:8080/",
          "height": 373
        },
        "id": "NPApqF5xg2r9",
        "outputId": "91fbbcdb-e537-4ba8-deda-f67f61d380f2"
      },
      "execution_count": 9,
      "outputs": [
        {
          "output_type": "error",
          "ename": "ValueError",
          "evalue": "ignored",
          "traceback": [
            "\u001b[0;31m---------------------------------------------------------------------------\u001b[0m",
            "\u001b[0;31mValueError\u001b[0m                                Traceback (most recent call last)",
            "\u001b[0;32m<ipython-input-9-7052ce059046>\u001b[0m in \u001b[0;36m<module>\u001b[0;34m()\u001b[0m\n\u001b[1;32m     10\u001b[0m     \u001b[0;32mreturn\u001b[0m \u001b[0;36m0\u001b[0m\u001b[0;34m\u001b[0m\u001b[0;34m\u001b[0m\u001b[0m\n\u001b[1;32m     11\u001b[0m \u001b[0;34m\u001b[0m\u001b[0m\n\u001b[0;32m---> 12\u001b[0;31m \u001b[0mplt\u001b[0m\u001b[0;34m.\u001b[0m\u001b[0mplot\u001b[0m\u001b[0;34m(\u001b[0m\u001b[0mx\u001b[0m\u001b[0;34m,\u001b[0m \u001b[0mf\u001b[0m\u001b[0;34m(\u001b[0m\u001b[0mx\u001b[0m\u001b[0;34m)\u001b[0m\u001b[0;34m)\u001b[0m\u001b[0;34m\u001b[0m\u001b[0;34m\u001b[0m\u001b[0m\n\u001b[0m\u001b[1;32m     13\u001b[0m \u001b[0mplt\u001b[0m\u001b[0;34m.\u001b[0m\u001b[0mtitle\u001b[0m\u001b[0;34m(\u001b[0m\u001b[0;34m'Step'\u001b[0m\u001b[0;34m)\u001b[0m\u001b[0;34m\u001b[0m\u001b[0;34m\u001b[0m\u001b[0m\n\u001b[1;32m     14\u001b[0m \u001b[0mplt\u001b[0m\u001b[0;34m.\u001b[0m\u001b[0mshow\u001b[0m\u001b[0;34m(\u001b[0m\u001b[0;34m)\u001b[0m\u001b[0;34m\u001b[0m\u001b[0;34m\u001b[0m\u001b[0m\n",
            "\u001b[0;32m<ipython-input-9-7052ce059046>\u001b[0m in \u001b[0;36mf\u001b[0;34m(x)\u001b[0m\n\u001b[1;32m      5\u001b[0m \u001b[0;34m\u001b[0m\u001b[0m\n\u001b[1;32m      6\u001b[0m \u001b[0;32mdef\u001b[0m \u001b[0mf\u001b[0m\u001b[0;34m(\u001b[0m\u001b[0mx\u001b[0m\u001b[0;34m)\u001b[0m\u001b[0;34m:\u001b[0m\u001b[0;34m\u001b[0m\u001b[0;34m\u001b[0m\u001b[0m\n\u001b[0;32m----> 7\u001b[0;31m   \u001b[0;32mif\u001b[0m \u001b[0mx\u001b[0m\u001b[0;34m>=\u001b[0m\u001b[0;36m2\u001b[0m\u001b[0;34m:\u001b[0m\u001b[0;34m\u001b[0m\u001b[0;34m\u001b[0m\u001b[0m\n\u001b[0m\u001b[1;32m      8\u001b[0m     \u001b[0;32mreturn\u001b[0m \u001b[0;36m1\u001b[0m\u001b[0;34m\u001b[0m\u001b[0;34m\u001b[0m\u001b[0m\n\u001b[1;32m      9\u001b[0m   \u001b[0;32melse\u001b[0m\u001b[0;34m:\u001b[0m\u001b[0;34m\u001b[0m\u001b[0;34m\u001b[0m\u001b[0m\n",
            "\u001b[0;31mValueError\u001b[0m: The truth value of an array with more than one element is ambiguous. Use a.any() or a.all()"
          ]
        }
      ]
    },
    {
      "cell_type": "markdown",
      "source": [
        "아래 케이스들과 혼동할 수 있다는 문제인듯하다"
      ],
      "metadata": {
        "id": "Kz_7pB69hzYl"
      }
    },
    {
      "cell_type": "code",
      "source": [
        "x.all()>=2"
      ],
      "metadata": {
        "colab": {
          "base_uri": "https://localhost:8080/"
        },
        "id": "XgvH0SDOhmse",
        "outputId": "89c761fa-f28f-4f44-b2d4-99b04d2e24f1"
      },
      "execution_count": 13,
      "outputs": [
        {
          "output_type": "execute_result",
          "data": {
            "text/plain": [
              "False"
            ]
          },
          "metadata": {},
          "execution_count": 13
        }
      ]
    },
    {
      "cell_type": "code",
      "source": [
        "x.any()>=2"
      ],
      "metadata": {
        "colab": {
          "base_uri": "https://localhost:8080/"
        },
        "id": "NcmCpixihtwM",
        "outputId": "73793b36-b439-44ae-cb3f-ad2a688c1cef"
      },
      "execution_count": 14,
      "outputs": [
        {
          "output_type": "execute_result",
          "data": {
            "text/plain": [
              "False"
            ]
          },
          "metadata": {},
          "execution_count": 14
        }
      ]
    },
    {
      "cell_type": "markdown",
      "source": [
        "그러나 각 배열 원소들에 대한 활성화 여부를 알고 싶은 것이므로 아래의 식이 적절함"
      ],
      "metadata": {
        "id": "4QCKx0qAiM-q"
      }
    },
    {
      "cell_type": "code",
      "source": [
        "x=np.array([1,2,3])\n",
        "x>=2"
      ],
      "metadata": {
        "colab": {
          "base_uri": "https://localhost:8080/"
        },
        "id": "ybU5OdLjhfwh",
        "outputId": "09ab82b1-fe75-40d0-8680-273923bf7b20"
      },
      "execution_count": 11,
      "outputs": [
        {
          "output_type": "execute_result",
          "data": {
            "text/plain": [
              "array([False,  True,  True])"
            ]
          },
          "metadata": {},
          "execution_count": 11
        }
      ]
    },
    {
      "cell_type": "markdown",
      "source": [
        "교재에 따르면, 실수 x뿐 아니라 넘파이 배열을 인수로 쓸 수 있는 코드는"
      ],
      "metadata": {
        "id": "-SyOxqg5h18u"
      }
    },
    {
      "cell_type": "code",
      "source": [
        "import numpy as np\n",
        "import matplotlib.pyplot as plt\n",
        "\n",
        "x=np.arange(1,3,0.02)\n",
        "\n",
        "def f(x):\n",
        "  y= x>2 #y는 True, False로 구성된 배열\n",
        "  return y.astype(np.int)  #bool array를 1,0으로 구성된 array로 변경\n",
        "\n",
        "plt.plot(x, f(x))\n",
        "plt.title('Step')\n",
        "plt.ylim(-0.2,1.2) #y축 범위\n",
        "plt.show()"
      ],
      "metadata": {
        "colab": {
          "base_uri": "https://localhost:8080/",
          "height": 281
        },
        "id": "0VjE3Fc3h79h",
        "outputId": "42720661-9fc3-455b-bfa4-9691f36f0815"
      },
      "execution_count": 22,
      "outputs": [
        {
          "output_type": "display_data",
          "data": {
            "image/png": "[encoded data removed]",
            "text/plain": [
              "<Figure size 432x288 with 1 Axes>"
            ]
          },
          "metadata": {
            "needs_background": "light"
          }
        }
      ]
    },
    {
      "cell_type": "markdown",
      "source": [
        "#시그모이드 함수\n",
        "\n",
        "시그모이드(='S모양인') 함수는 신경망에서 자주 이용하는 활성화 함수로, 식은 1/(1+exp(-x))"
      ],
      "metadata": {
        "id": "FInlI4ijgDbO"
      }
    },
    {
      "cell_type": "code",
      "execution_count": 6,
      "metadata": {
        "colab": {
          "base_uri": "https://localhost:8080/",
          "height": 281
        },
        "id": "q_IJBbVscrdI",
        "outputId": "fb86da62-b4b4-49b3-e07b-10debec1fe3f"
      },
      "outputs": [
        {
          "output_type": "display_data",
          "data": {
            "image/png": "[encoded data removed]",
            "text/plain": [
              "<Figure size 432x288 with 1 Axes>"
            ]
          },
          "metadata": {
            "needs_background": "light"
          }
        }
      ],
      "source": [
        "import numpy as np\n",
        "import matplotlib.pyplot as plt\n",
        "\n",
        "x=np.arange(-5,5,0.1)\n",
        "\n",
        "def f(x):\n",
        "  from math import e\n",
        "  return 1/(1+e**(-x))\n",
        "\n",
        "plt.plot(x, f(x))\n",
        "plt.title('Sigmoid')\n",
        "plt.show()"
      ]
    },
    {
      "cell_type": "markdown",
      "source": [
        "np.exp를 쓸수도 있다"
      ],
      "metadata": {
        "id": "o3YSeO4Tjrqg"
      }
    },
    {
      "cell_type": "code",
      "source": [
        "def Sigmoid(x):\n",
        "  return 1/(1+np.exp(-x))"
      ],
      "metadata": {
        "id": "KUaQMtVCgfXD"
      },
      "execution_count": 23,
      "outputs": []
    },
    {
      "cell_type": "markdown",
      "source": [
        "갑자기 궁금해지는...시그모이드 친구 그림"
      ],
      "metadata": {
        "id": "0UY5sF3AjyXq"
      }
    },
    {
      "cell_type": "code",
      "source": [
        "x=np.arange(-10,10,0.5)"
      ],
      "metadata": {
        "id": "kPc5ONGMj3vH"
      },
      "execution_count": 31,
      "outputs": []
    },
    {
      "cell_type": "code",
      "source": [
        "def tomo1(x):\n",
        "  return 1+np.exp(-x)\n",
        "\n",
        "plt.plot(x, tomo1(x))\n",
        "plt.show()"
      ],
      "metadata": {
        "colab": {
          "base_uri": "https://localhost:8080/",
          "height": 265
        },
        "id": "XHfAsDD0kIt2",
        "outputId": "858328d1-d1c7-47ce-d5dc-83f9558d5b7f"
      },
      "execution_count": 46,
      "outputs": [
        {
          "output_type": "display_data",
          "data": {
            "image/png": "[encoded data removed]",
            "text/plain": [
              "<Figure size 432x288 with 1 Axes>"
            ]
          },
          "metadata": {
            "needs_background": "light"
          }
        }
      ]
    },
    {
      "cell_type": "markdown",
      "source": [
        "exp의 역할은 출력의 양수화\n",
        "\n",
        "★exp(x)가 아닌 exp(-x)인 이유는???"
      ],
      "metadata": {
        "id": "2x8S-iAzk3Bj"
      }
    },
    {
      "cell_type": "code",
      "source": [
        "imti('why')"
      ],
      "metadata": {
        "colab": {
          "base_uri": "https://localhost:8080/",
          "height": 269
        },
        "id": "AYY9EVHXqeAG",
        "outputId": "f90757a4-7bcb-4465-db14-feeb555ba8a9"
      },
      "execution_count": 44,
      "outputs": [
        {
          "output_type": "display_data",
          "data": {
            "image/png": "[encoded data removed]",
            "text/plain": [
              "<Figure size 432x288 with 1 Axes>"
            ]
          },
          "metadata": {
            "needs_background": "light"
          }
        }
      ]
    },
    {
      "cell_type": "code",
      "source": [
        "def tomo2(x):\n",
        "  return 1/(np.exp(-x))\n",
        "\n",
        "plt.plot(x, tomo2(x))\n",
        "plt.show()"
      ],
      "metadata": {
        "colab": {
          "base_uri": "https://localhost:8080/",
          "height": 265
        },
        "id": "u9Q7f07bj4YA",
        "outputId": "f5adace3-1b06-4433-e5dd-4fce4263b026"
      },
      "execution_count": 29,
      "outputs": [
        {
          "output_type": "display_data",
          "data": {
            "image/png": "[encoded data removed]",
            "text/plain": [
              "<Figure size 432x288 with 1 Axes>"
            ]
          },
          "metadata": {
            "needs_background": "light"
          }
        }
      ]
    },
    {
      "cell_type": "markdown",
      "source": [
        "exp의 역수를 취하고 분모+1 하면 미분시 대칭인 종모양이 되고 y->0일 때 x->-inf, y->1일 때 x->inf로 입력값의 위치를 밸런스있게 펴진다\n",
        "\n",
        "\n",
        "(1/(np.exp(-x))는 미분시 자기 자신이어서 저거랑 미분 모양 똑같음.\n",
        "\n",
        "미분이 비대칭일 경우 동일 가중치 학습할 때 조차 동일 학습률 적용하기 어려울듯..)"
      ],
      "metadata": {
        "id": "CN_og3KpmMYJ"
      }
    },
    {
      "cell_type": "code",
      "source": [
        "plt.plot(x, tomo2(x), label='1/e(-x)')\n",
        "plt.plot(x, np.exp(x), label='e(x)')\n",
        "plt.show()"
      ],
      "metadata": {
        "colab": {
          "base_uri": "https://localhost:8080/",
          "height": 269
        },
        "id": "a4o-Y_KGnlLS",
        "outputId": "6e7c6ccd-0b12-4245-aaa2-d86490bd13af"
      },
      "execution_count": 36,
      "outputs": [
        {
          "output_type": "display_data",
          "data": {
            "image/png": "[encoded data removed]",
            "text/plain": [
              "<Figure size 432x288 with 1 Axes>"
            ]
          },
          "metadata": {
            "needs_background": "light"
          }
        }
      ]
    },
    {
      "cell_type": "markdown",
      "source": [
        "엥..?\n",
        "\n",
        "\n",
        "ㅋㅋㅋ뒤늦게 깨달은 사실... 1/e(-x)=e(x)엿다."
      ],
      "metadata": {
        "id": "2NOcYSnNkRGF"
      }
    },
    {
      "cell_type": "code",
      "source": [
        "imti('what')"
      ],
      "metadata": {
        "colab": {
          "base_uri": "https://localhost:8080/",
          "height": 269
        },
        "id": "RfYFghtotfQQ",
        "outputId": "72f24003-f5e8-450a-dce9-b1d36cf86bc1"
      },
      "execution_count": 45,
      "outputs": [
        {
          "output_type": "display_data",
          "data": {
            "image/png": "[encoded data removed]",
            "text/plain": [
              "<Figure size 432x288 with 1 Axes>"
            ]
          },
          "metadata": {
            "needs_background": "light"
          }
        }
      ]
    },
    {
      "cell_type": "markdown",
      "source": [
        "그렇다면 시그모이드 함수는\n",
        "\n",
        "1)  출력을 양수로 한정하면서 (e(x))\n",
        "\n",
        "2) 이 값이 0과 1사이가 되도록 (1/1+e(x))로 변형하고\n",
        "\n",
        "*단순히 1/e(x)면 y값은 1/0부터 1/inf인데\n",
        "분모 부분에 1을 더해줌으로써 1/1부터 1/inf 까지로 범위 제한 (1~0)\n",
        "\n",
        "3) x 값이 커질수록 y값이 커지는... 비례적인 그래프가 더 직관적이므로 e(x) 대신 e(-x)사용...한 것"
      ],
      "metadata": {
        "id": "am2S0Ds9okKH"
      }
    },
    {
      "cell_type": "code",
      "source": [
        "plt.plot(x, 1/(1+np.exp(-x)))\n",
        "plt.show()"
      ],
      "metadata": {
        "colab": {
          "base_uri": "https://localhost:8080/",
          "height": 265
        },
        "id": "BbiG92FAvF70",
        "outputId": "6d2b6c28-1082-419a-9c12-a7eec050e66c"
      },
      "execution_count": 65,
      "outputs": [
        {
          "output_type": "display_data",
          "data": {
            "image/png": "[encoded data removed]",
            "text/plain": [
              "<Figure size 432x288 with 1 Axes>"
            ]
          },
          "metadata": {
            "needs_background": "light"
          }
        }
      ]
    },
    {
      "cell_type": "code",
      "source": [
        "imti('confident')"
      ],
      "metadata": {
        "colab": {
          "base_uri": "https://localhost:8080/",
          "height": 269
        },
        "id": "G-3Rn2w5yUlA",
        "outputId": "b9533cc9-6cf6-4930-ad7a-ff0661aa32c8"
      },
      "execution_count": 62,
      "outputs": [
        {
          "output_type": "display_data",
          "data": {
            "image/png": "[encoded data removed]",
            "text/plain": [
              "<Figure size 432x288 with 1 Axes>"
            ]
          },
          "metadata": {
            "needs_background": "light"
          }
        }
      ]
    },
    {
      "cell_type": "markdown",
      "source": [
        "계단 함수보다는 덜 가파르지만 잠재 임계값 전후로 가파르고, 무엇보다 **미분 가능한 점이** 학습을 가능하게 만든다는 점에서\n",
        "\n",
        "시그모이드 활성화 함수가 인간이 수동 조작하는 퍼셉트론과 딥러닝에 속하는 \"신경망\"을 구분한 것인듯?\n",
        "\n",
        "\n",
        "\n",
        "-> 맞는 추론! 계단/시그 둘다 **출력 범위 0,1 사이**에서 **입력이 중요하다면 큰 값을 반환**\n",
        "\n",
        "연속적인 출력값을 갖는 시그모이드 함수의 '매끄러움'이 신경망 학습에서 매우 중요한 역할을 함"
      ],
      "metadata": {
        "id": "JIUxAksQlsiM"
      }
    },
    {
      "cell_type": "markdown",
      "source": [
        "#활성화함수로서 비선형 함수의 중요성"
      ],
      "metadata": {
        "id": "7mqSzaPPzfCx"
      }
    },
    {
      "cell_type": "markdown",
      "source": [
        "신경망에서 층을 쌓는 혜택을 얻고 싶다면 비선형함수를 활성화 함수로 사용해야 한다.\n",
        "\n",
        "여러 가중치 배열들과의 선형 결합으로 아무리 복잡하게 중첩 계산되어도 단일 가중치 배열과의 선형 결합으로 전개할 수 있어,\n",
        "\n",
        " 유명무실하게 존재하는 은닉층들이 발생하기 때문이다."
      ],
      "metadata": {
        "id": "Wz0GM8XozixH"
      }
    },
    {
      "cell_type": "markdown",
      "source": [
        "\n",
        "\n",
        "---\n",
        "\n"
      ],
      "metadata": {
        "id": "ogH-sL4B0UjI"
      }
    },
    {
      "cell_type": "markdown",
      "source": [
        "#ReLu 함수"
      ],
      "metadata": {
        "id": "FsZ-1LHy0TPg"
      }
    },
    {
      "cell_type": "code",
      "source": [
        "def ReLu(x):\n",
        "  return np.maximum(0,x)\n",
        "\n",
        "plt.plot(x, ReLu(x))\n",
        "plt.show()"
      ],
      "metadata": {
        "colab": {
          "base_uri": "https://localhost:8080/",
          "height": 265
        },
        "id": "pldKVkj70SJt",
        "outputId": "29ba1221-bb42-4ba4-801b-e415bd345cf2"
      },
      "execution_count": 67,
      "outputs": [
        {
          "output_type": "display_data",
          "data": {
            "image/png": "[encoded data removed]",
            "text/plain": [
              "<Figure size 432x288 with 1 Axes>"
            ]
          },
          "metadata": {
            "needs_background": "light"
          }
        }
      ]
    },
    {
      "cell_type": "markdown",
      "source": [
        "직선 하나로 표현되지 않으므로 ReLu도 비선형이다."
      ],
      "metadata": {
        "id": "XWxzSXc-1C_5"
      }
    },
    {
      "cell_type": "markdown",
      "source": [
        "#다시 배열"
      ],
      "metadata": {
        "id": "_82jzuxN1MO1"
      }
    },
    {
      "cell_type": "code",
      "source": [
        "A=np.array([[1,2],\n",
        "            [3,4],\n",
        "            [5,6]])\n",
        "print(A.shape) #행x열\n",
        "print(np.ndim(A)) #2차원"
      ],
      "metadata": {
        "colab": {
          "base_uri": "https://localhost:8080/"
        },
        "id": "FyaixV721NM8",
        "outputId": "dfc3a648-b998-4646-a3c5-515d2ad49ad5"
      },
      "execution_count": 70,
      "outputs": [
        {
          "output_type": "stream",
          "name": "stdout",
          "text": [
            "(3, 2)\n",
            "2\n"
          ]
        }
      ]
    },
    {
      "cell_type": "code",
      "source": [
        "B=np.array([[1],\n",
        "            [2]])\n",
        "np.dot(A,B) #행렬곱"
      ],
      "metadata": {
        "colab": {
          "base_uri": "https://localhost:8080/"
        },
        "id": "T2wa0s781RgQ",
        "outputId": "eb553489-a601-4327-a1b2-0e3a60310d66"
      },
      "execution_count": 72,
      "outputs": [
        {
          "output_type": "execute_result",
          "data": {
            "text/plain": [
              "array([[ 5],\n",
              "       [11],\n",
              "       [17]])"
            ]
          },
          "metadata": {},
          "execution_count": 72
        }
      ]
    },
    {
      "cell_type": "markdown",
      "source": [
        "행렬의 형상: 행렬곱 AxB에서 A열=B행이어야 하고 결과 행렬의 크기는 (A행,B열)\n",
        "\n",
        "참고로 1차원 배열일 때도 대응하는 차원 원소수가 일치되게 계산됨\n",
        "\n",
        "참고로 np.dot(B,A)는 에러남."
      ],
      "metadata": {
        "id": "dtcgdLZ91q_j"
      }
    },
    {
      "cell_type": "code",
      "source": [
        "B=np.array([1,2])\n",
        "np.dot(A,B) #행렬곱 오류 발생 안함 (원래 1*2인데 2*1인 vertical array?로 간주하는듯)"
      ],
      "metadata": {
        "colab": {
          "base_uri": "https://localhost:8080/"
        },
        "id": "xVFjQX8V1nk5",
        "outputId": "6f77713b-b31a-428e-a5b5-7d6d1dc1f2ff"
      },
      "execution_count": 74,
      "outputs": [
        {
          "output_type": "execute_result",
          "data": {
            "text/plain": [
              "array([ 5, 11, 17])"
            ]
          },
          "metadata": {},
          "execution_count": 74
        }
      ]
    },
    {
      "cell_type": "markdown",
      "source": [
        "#간단 신경망 구현"
      ],
      "metadata": {
        "id": "YEBbBYwd4_vh"
      }
    },
    {
      "cell_type": "code",
      "source": [
        "X=np.array([1,0.5])\n",
        "w1=np.array([[0.1,0.3,0.5],[0.2,0.4,0.6]])\n",
        "b1=np.array([0.1,0.2,0.3])\n",
        "\n",
        "input1=np.dot(X,w1)+b1\n",
        "\n",
        "def sigmoid(x):\n",
        "  return 1/(1+np.exp(-x))\n",
        "\n",
        "output1=sigmoid(input1)\n",
        "\n",
        "#이런 과정을 w2와 b2, w3와 b3...에 대해 반복하고 최종 input에 대해 출력층 활성화함수 통과 후 결과 y 출력! "
      ],
      "metadata": {
        "id": "a7QshKmN5CCp"
      },
      "execution_count": 78,
      "outputs": []
    },
    {
      "cell_type": "markdown",
      "source": [
        "참고로 초기 w,b들을 따로 딕셔너리에 넣어두고 그때그때 재할당 하는 식으로 코드를 구성할수도 있다"
      ],
      "metadata": {
        "id": "JxQkd1c76NYl"
      }
    },
    {
      "cell_type": "markdown",
      "source": [
        "#출력층"
      ],
      "metadata": {
        "id": "YLGxPgBx6Wl-"
      }
    },
    {
      "cell_type": "markdown",
      "source": [
        "출력층의 활성화함수: 계산된 ouput을 원하는 예측값에 적합한 형태로 내보내는 역할\n",
        "\n",
        "일반적으로 회귀에는 항등함수(계산값 그대로 출력), 분류에는 소프트맥스함수(각 클래스로 예측될 확률 - 합이 1이 되도록)를 사용한다"
      ],
      "metadata": {
        "id": "6MGYtGWe6XgB"
      }
    },
    {
      "cell_type": "code",
      "source": [
        "def softmax(x):\n",
        "  return np.exp(x)/sum(np.exp(x)) #배열의 모든값을 exp에 대입"
      ],
      "metadata": {
        "id": "93D1WjDg7Fw3"
      },
      "execution_count": 79,
      "outputs": []
    },
    {
      "cell_type": "code",
      "source": [
        "softmax(np.array([0.5,0.5,0.7]))"
      ],
      "metadata": {
        "colab": {
          "base_uri": "https://localhost:8080/"
        },
        "id": "DCAUf7I_7fAN",
        "outputId": "87279f5f-eb0c-4957-a1ce-4835200d4078"
      },
      "execution_count": 80,
      "outputs": [
        {
          "output_type": "execute_result",
          "data": {
            "text/plain": [
              "array([0.31042377, 0.31042377, 0.37915245])"
            ]
          },
          "metadata": {},
          "execution_count": 80
        }
      ]
    },
    {
      "cell_type": "markdown",
      "source": [
        "#오버플로\n",
        "\n",
        "지수함수 결과값이 너무 커서 매우 큰값을 계산해야할 때 결과가 불안정해지는 것 \n",
        "\n",
        "(컴퓨터가 4바이트나 8바이트와 같이 크기가 유한한 데이터를 다루다보니 표현할 수 있는 수의 범위가 한정되어 너무 큰 값을 표현할 수 없음)"
      ],
      "metadata": {
        "id": "OK3tMVdg7v9d"
      }
    },
    {
      "cell_type": "markdown",
      "source": [
        "exp()/exp()에서 (지수 계산) 각 지수에 같은 값을 더하거나 빼는 것은 최종 결과에 영향을 미치지 않으므로 다음과 같이 소프트맥스 함수를 수정해 오버플로 문제를 예방할 수 있다"
      ],
      "metadata": {
        "id": "1yclQym58NSH"
      }
    },
    {
      "cell_type": "code",
      "source": [
        "def softmax(x):\n",
        "  c=np.max(x) #최댓값을 고정 상수 c로 놓고\n",
        "  return np.exp(x-c)/sum(np.exp(x-c)) #배열의 모든값을 exp에 대입"
      ],
      "metadata": {
        "id": "RCGkbhDg8YuP"
      },
      "execution_count": 81,
      "outputs": []
    },
    {
      "cell_type": "code",
      "source": [
        "softmax(np.array([0.5,0.5,0.7]))\n",
        "#당연히 결과는 동일함\n",
        "#지수함수가 단증함수라서 대소관계 변하지 않음"
      ],
      "metadata": {
        "colab": {
          "base_uri": "https://localhost:8080/"
        },
        "id": "J6nA2v1V8gDr",
        "outputId": "79f63f8f-ca59-4675-f27f-d14bb372104d"
      },
      "execution_count": 82,
      "outputs": [
        {
          "output_type": "execute_result",
          "data": {
            "text/plain": [
              "array([0.31042377, 0.31042377, 0.37915245])"
            ]
          },
          "metadata": {},
          "execution_count": 82
        }
      ]
    },
    {
      "cell_type": "markdown",
      "source": [
        "출력 총합이 1인 소프트맥스 함수의 성질로 인해 출력값을 확률로 해석할 수 있으며,\n",
        "\n",
        " 'k번째 확률이 가장 높으니 k번 클래스로 예측한다'는 직관적인 결론을 낼 수 있다\n",
        "\n",
        " 그러나 현업에서는 지수 함수 계산에 드는 자원 낭비를 줄이고자 생략함\n",
        "\n",
        " (어쩐지,, 어차피 결과가 제일 큰 클래스만 알면 되는거면 뭐하러 번거롭게 '확률로 표현되는 값 구하기'같은 おしゃれ한 작업을 추가하나 했네)"
      ],
      "metadata": {
        "id": "xlMuEAqR8kCd"
      }
    }
  ]
}